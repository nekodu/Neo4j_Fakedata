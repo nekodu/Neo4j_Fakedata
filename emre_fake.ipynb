{
 "cells": [
  {
   "cell_type": "code",
   "execution_count": 1,
   "metadata": {},
   "outputs": [],
   "source": [
    "import pandas as pd\n",
    "import numpy as np\n",
    "from faker import Faker\n",
    "from collections import defaultdict\n",
    "from sqlalchemy import create_engine\n",
    "import datetime\n",
    "import random\n",
    "import re\n"
   ]
  },
  {
   "cell_type": "code",
   "execution_count": 2,
   "metadata": {},
   "outputs": [],
   "source": [
    "from numpy import integer\n",
    "\n",
    "\n",
    "fake=Faker()\n",
    "\n",
    "fake_data = defaultdict(list)\n",
    "\n",
    "row_number=int(input(\"Please write the number you wish to see the row size, DON'T CRASH ME!\"))\n",
    "\n"
   ]
  },
  {
   "cell_type": "code",
   "execution_count": 3,
   "metadata": {},
   "outputs": [
    {
     "data": {
      "text/plain": [
       "collections.defaultdict"
      ]
     },
     "execution_count": 3,
     "metadata": {},
     "output_type": "execute_result"
    }
   ],
   "source": [
    "type(fake_data)"
   ]
  },
  {
   "cell_type": "markdown",
   "metadata": {},
   "source": [
    "#Functions"
   ]
  },
  {
   "cell_type": "markdown",
   "metadata": {},
   "source": [
    "#Fake data is generated."
   ]
  },
  {
   "cell_type": "code",
   "execution_count": 4,
   "metadata": {},
   "outputs": [],
   "source": [
    "\n",
    "for i in range(row_number):\n",
    "    fake_data['from_customer'].append(fake.bothify(text='FRM-1#####'))\n",
    "    fake_data['amount'].append(fake.pyfloat(right_digits=2,positive=True,min_value=2.00,max_value=10000.00))\n",
    "    fake_data['timestamp'].append(fake.date_time_ad(start_datetime=datetime.datetime(2022,9,14)))\n",
    "    "
   ]
  },
  {
   "cell_type": "code",
   "execution_count": 5,
   "metadata": {},
   "outputs": [],
   "source": [
    "#To_customer feauture\n",
    "templist=[]\n",
    "#check the key value from list_converted defaultdict\n",
    "for k,v in list(fake_data.items()):\n",
    "    if k=='from_customer':\n",
    "        #Change FRM tag to TO tag\n",
    "        for item in v:\n",
    "                splited_item=item.split('-')\n",
    "                splited_item[0]='TO'\n",
    "                concat_item='-'.join(splited_item)\n",
    "                templist.append(concat_item)#item\n",
    "#To_customer yapısında yer değişikliği random\n",
    "random.shuffle(templist)\n",
    "fake_data['to_customer']=templist\n"
   ]
  },
  {
   "cell_type": "code",
   "execution_count": 6,
   "metadata": {},
   "outputs": [],
   "source": [
    "df=pd.DataFrame(fake_data)\n",
    "df=df[['from_customer','to_customer','amount','timestamp']] \n",
    "#dropped_df=df.drop(['amount','timestamp'], axis=1)"
   ]
  },
  {
   "cell_type": "code",
   "execution_count": 7,
   "metadata": {},
   "outputs": [],
   "source": [
    "try:\n",
    "    equal=any(df['from_customer'].str.extract('(\\d+)')==df['to_customer'].str.extract('(\\d+)'))\n",
    "except:\n",
    "    print(\"Same value error, please check your rows that may be have a same value\")"
   ]
  },
  {
   "cell_type": "code",
   "execution_count": 8,
   "metadata": {},
   "outputs": [
    {
     "data": {
      "text/html": [
       "<div>\n",
       "<style scoped>\n",
       "    .dataframe tbody tr th:only-of-type {\n",
       "        vertical-align: middle;\n",
       "    }\n",
       "\n",
       "    .dataframe tbody tr th {\n",
       "        vertical-align: top;\n",
       "    }\n",
       "\n",
       "    .dataframe thead th {\n",
       "        text-align: right;\n",
       "    }\n",
       "</style>\n",
       "<table border=\"1\" class=\"dataframe\">\n",
       "  <thead>\n",
       "    <tr style=\"text-align: right;\">\n",
       "      <th></th>\n",
       "      <th>from_customer</th>\n",
       "      <th>to_customer</th>\n",
       "      <th>amount</th>\n",
       "      <th>timestamp</th>\n",
       "    </tr>\n",
       "  </thead>\n",
       "  <tbody>\n",
       "    <tr>\n",
       "      <th>0</th>\n",
       "      <td>FRM-164582</td>\n",
       "      <td>TO-188513</td>\n",
       "      <td>9960.13</td>\n",
       "      <td>2022-10-28 05:35:24</td>\n",
       "    </tr>\n",
       "    <tr>\n",
       "      <th>1</th>\n",
       "      <td>FRM-169830</td>\n",
       "      <td>TO-164582</td>\n",
       "      <td>4680.90</td>\n",
       "      <td>2022-10-21 18:17:00</td>\n",
       "    </tr>\n",
       "    <tr>\n",
       "      <th>2</th>\n",
       "      <td>FRM-188513</td>\n",
       "      <td>TO-169830</td>\n",
       "      <td>2317.43</td>\n",
       "      <td>2022-10-23 10:16:05</td>\n",
       "    </tr>\n",
       "  </tbody>\n",
       "</table>\n",
       "</div>"
      ],
      "text/plain": [
       "  from_customer to_customer   amount           timestamp\n",
       "0    FRM-164582   TO-188513  9960.13 2022-10-28 05:35:24\n",
       "1    FRM-169830   TO-164582  4680.90 2022-10-21 18:17:00\n",
       "2    FRM-188513   TO-169830  2317.43 2022-10-23 10:16:05"
      ]
     },
     "execution_count": 8,
     "metadata": {},
     "output_type": "execute_result"
    }
   ],
   "source": [
    "#type(df_manipulation['from_customer'].str.extract('(\\d+)')==df_manipulation['to_customer'].str.extract('(\\d+)'))\n",
    "#GET INDEX NUMBER:\n",
    "    #df_manipulation[df['from_customer']=='FRM-757739'].index.item() \n",
    "#Seperate the numbers:\n",
    "    #df_manipulation['from_customer'].str.extract('(\\d+)'))\n",
    "    #df_manipulation['to_customer'].str.extract('(\\d+)'))\n",
    "df.head()"
   ]
  },
  {
   "cell_type": "code",
   "execution_count": 9,
   "metadata": {},
   "outputs": [],
   "source": [
    "from_or_to={'from_customer':'from_customer',\n",
    "                    'to_customer':'to_customer'}\n",
    "for i in range(len(from_or_to)):\n",
    "            list(from_or_to.keys())[i]=df[list(from_or_to.keys())[i]].to_list()\n",
    "            \n",
    "\n"
   ]
  },
  {
   "cell_type": "markdown",
   "metadata": {},
   "source": [
    "Emre Kaya"
   ]
  },
  {
   "cell_type": "code",
   "execution_count": 10,
   "metadata": {},
   "outputs": [],
   "source": [
    "from_customer=list(df[\"from_customer\"])#from_customer adlı sütünü listeye çevirdim\n",
    "\n",
    "to_customer=list(df[\"to_customer\"])#to_customer adlı sütünü listeye çevirdim\n"
   ]
  },
  {
   "cell_type": "code",
   "execution_count": 11,
   "metadata": {},
   "outputs": [],
   "source": [
    "new_from_customer=[] # yeni data frame '  e  eklemek içni yeni from_custormer listem \n",
    "new_to_customer=[]# yeni data frame '  e  eklemek içni yeni to_ custormer listem \n"
   ]
  },
  {
   "cell_type": "code",
   "execution_count": 12,
   "metadata": {},
   "outputs": [],
   "source": [
    "loop=(len(df)*10)"
   ]
  },
  {
   "cell_type": "code",
   "execution_count": 13,
   "metadata": {},
   "outputs": [
    {
     "name": "stdout",
     "output_type": "stream",
     "text": [
      "i= 0 - rand_numb= 4\n",
      "ilk for new_from_customer 0\n",
      "j= 0\n",
      "AYNI\n",
      "j= 1\n",
      "2.for new_from_customer 1\n",
      "j= 2\n",
      "AYNI\n",
      "j= 3\n",
      "AYNI\n",
      "i= 1 - rand_numb= 4\n",
      "ilk for new_from_customer 1\n",
      "j= 0\n",
      "AYNI\n",
      "j= 1\n",
      "AYNI\n",
      "j= 2\n",
      "2.for new_from_customer 2\n",
      "j= 3\n",
      "2.for new_from_customer 3\n",
      "i= 2 - rand_numb= 10\n",
      "ilk for new_from_customer 3\n",
      "j= 0\n",
      "AYNI\n",
      "j= 1\n",
      "AYNI\n",
      "j= 2\n",
      "AYNI\n",
      "j= 3\n",
      "AYNI\n",
      "j= 4\n",
      "2.for new_from_customer 4\n",
      "j= 5\n",
      "2.for new_from_customer 5\n",
      "j= 6\n",
      "2.for new_from_customer 6\n",
      "j= 7\n",
      "AYNI\n",
      "j= 8\n",
      "AYNI\n",
      "j= 9\n",
      "AYNI\n",
      "i= 3 - rand_numb= 2\n",
      "ilk for new_from_customer 6\n",
      "j= 0\n",
      "AYNI\n",
      "j= 1\n",
      "AYNI\n",
      "i= 4 - rand_numb= 10\n",
      "ilk for new_from_customer 6\n",
      "j= 0\n",
      "2.for new_from_customer 7\n",
      "j= 1\n",
      "AYNI\n",
      "j= 2\n",
      "2.for new_from_customer 8\n",
      "j= 3\n",
      "2.for new_from_customer 9\n",
      "j= 4\n",
      "2.for new_from_customer 10\n",
      "j= 5\n",
      "2.for new_from_customer 11\n",
      "j= 6\n",
      "2.for new_from_customer 12\n",
      "j= 7\n",
      "2.for new_from_customer 13\n",
      "j= 8\n",
      "2.for new_from_customer 14\n",
      "j= 9\n",
      "2.for new_from_customer 15\n",
      "i= 5 - rand_numb= 9\n",
      "ilk for new_from_customer 15\n",
      "j= 0\n",
      "AYNI\n",
      "j= 1\n",
      "AYNI\n",
      "j= 2\n",
      "AYNI\n",
      "j= 3\n",
      "AYNI\n",
      "j= 4\n",
      "AYNI\n",
      "j= 5\n",
      "2.for new_from_customer 16\n",
      "j= 6\n",
      "AYNI\n",
      "j= 7\n",
      "2.for new_from_customer 17\n",
      "j= 8\n",
      "AYNI\n",
      "i= 6 - rand_numb= 7\n",
      "ilk for new_from_customer 17\n",
      "j= 0\n",
      "AYNI\n",
      "j= 1\n",
      "AYNI\n",
      "j= 2\n",
      "2.for new_from_customer 18\n",
      "j= 3\n",
      "AYNI\n",
      "j= 4\n",
      "2.for new_from_customer 19\n",
      "j= 5\n",
      "2.for new_from_customer 20\n",
      "j= 6\n",
      "AYNI\n",
      "i= 7 - rand_numb= 1\n",
      "ilk for new_from_customer 20\n",
      "j= 0\n",
      "AYNI\n",
      "i= 8 - rand_numb= 6\n",
      "ilk for new_from_customer 20\n",
      "j= 0\n",
      "2.for new_from_customer 21\n",
      "j= 1\n",
      "2.for new_from_customer 22\n",
      "j= 2\n",
      "2.for new_from_customer 23\n",
      "j= 3\n",
      "2.for new_from_customer 24\n",
      "j= 4\n",
      "AYNI\n",
      "j= 5\n",
      "AYNI\n",
      "i= 9 - rand_numb= 8\n",
      "ilk for new_from_customer 24\n",
      "j= 0\n",
      "AYNI\n",
      "j= 1\n",
      "2.for new_from_customer 25\n",
      "j= 2\n",
      "AYNI\n",
      "j= 3\n",
      "2.for new_from_customer 26\n",
      "j= 4\n",
      "AYNI\n",
      "j= 5\n",
      "2.for new_from_customer 27\n",
      "j= 6\n",
      "AYNI\n",
      "j= 7\n",
      "2.for new_from_customer 28\n",
      "i= 10 - rand_numb= 3\n",
      "ilk for new_from_customer 28\n",
      "j= 0\n",
      "AYNI\n",
      "j= 1\n",
      "AYNI\n",
      "j= 2\n",
      "2.for new_from_customer 29\n",
      "i= 11 - rand_numb= 5\n",
      "ilk for new_from_customer 29\n",
      "j= 0\n",
      "2.for new_from_customer 30\n",
      "j= 1\n",
      "AYNI\n",
      "j= 2\n",
      "i= 12 - rand_numb= 9\n",
      "ilk for new_from_customer 30\n",
      "j= 0\n",
      "AYNI\n",
      "j= 1\n",
      "AYNI\n",
      "j= 2\n",
      "AYNI\n",
      "j= 3\n",
      "AYNI\n",
      "j= 4\n",
      "AYNI\n",
      "j= 5\n",
      "AYNI\n",
      "j= 6\n",
      "AYNI\n",
      "j= 7\n",
      "AYNI\n",
      "j= 8\n",
      "AYNI\n",
      "i= 13 - rand_numb= 5\n",
      "ilk for new_from_customer 30\n",
      "j= 0\n",
      "AYNI\n",
      "j= 1\n",
      "AYNI\n",
      "j= 2\n",
      "AYNI\n",
      "j= 3\n",
      "AYNI\n",
      "j= 4\n",
      "AYNI\n",
      "i= 14 - rand_numb= 5\n",
      "ilk for new_from_customer 30\n",
      "j= 0\n",
      "AYNI\n",
      "j= 1\n",
      "AYNI\n",
      "j= 2\n",
      "AYNI\n",
      "j= 3\n",
      "i= 15 - rand_numb= 9\n",
      "ilk for new_from_customer 30\n",
      "j= 0\n",
      "i= 16 - rand_numb= 4\n",
      "ilk for new_from_customer 30\n",
      "j= 0\n",
      "i= 17 - rand_numb= 2\n",
      "ilk for new_from_customer 30\n",
      "j= 0\n",
      "AYNI\n",
      "j= 1\n",
      "AYNI\n",
      "i= 18 - rand_numb= 2\n",
      "ilk for new_from_customer 30\n",
      "j= 0\n",
      "i= 19 - rand_numb= 4\n",
      "ilk for new_from_customer 30\n",
      "j= 0\n",
      "AYNI\n",
      "j= 1\n",
      "AYNI\n",
      "j= 2\n",
      "AYNI\n",
      "j= 3\n",
      "AYNI\n",
      "i= 20 - rand_numb= 3\n",
      "ilk for new_from_customer 30\n",
      "j= 0\n",
      "i= 21 - rand_numb= 10\n",
      "ilk for new_from_customer 30\n",
      "j= 0\n",
      "i= 22 - rand_numb= 6\n",
      "ilk for new_from_customer 30\n",
      "j= 0\n",
      "i= 23 - rand_numb= 9\n",
      "ilk for new_from_customer 30\n",
      "j= 0\n",
      "i= 24 - rand_numb= 7\n",
      "ilk for new_from_customer 30\n",
      "j= 0\n",
      "i= 25 - rand_numb= 2\n",
      "ilk for new_from_customer 30\n",
      "j= 0\n",
      "i= 26 - rand_numb= 6\n",
      "ilk for new_from_customer 30\n",
      "j= 0\n",
      "i= 27 - rand_numb= 3\n",
      "ilk for new_from_customer 30\n",
      "j= 0\n",
      "AYNI\n",
      "j= 1\n",
      "AYNI\n",
      "j= 2\n",
      "AYNI\n",
      "i= 28 - rand_numb= 10\n",
      "ilk for new_from_customer 30\n",
      "j= 0\n",
      "i= 29 - rand_numb= 3\n",
      "ilk for new_from_customer 30\n",
      "j= 0\n",
      "AYNI\n",
      "j= 1\n",
      "AYNI\n",
      "j= 2\n",
      "AYNI\n",
      "['TO-188513', 'TO-188513', 'TO-188513', 'TO-188513', 'TO-188513', 'TO-188513', 'TO-169830', 'TO-169830', 'TO-169830', 'TO-169830', 'TO-164582', 'TO-169830', 'TO-164582', 'TO-164582', 'TO-164582', 'TO-188513', 'TO-188513', 'TO-188513', 'TO-188513', 'TO-188513', 'TO-164582', 'TO-169830', 'TO-164582', 'TO-164582', 'TO-169830', 'TO-164582', 'TO-169830', 'TO-169830', 'TO-188513', 'TO-188513']\n"
     ]
    }
   ],
   "source": [
    "\n",
    "for i in range(loop): # df nin uzunluğu kadar bir döngü yapıyorum\n",
    "    rand_numb=random.randint(1,10)  # rastgele random sayı üretiyorum ki from_customer ' random sayıda aktivasyonu olsun\n",
    "    print(\"i=\",i,\"- rand_numb=\",rand_numb)\n",
    "    print(\"ilk for new_from_customer\",len(new_from_customer))\n",
    "    from_customer_sp=random.choices(from_customer)\n",
    "    f_c_s=str(from_customer_sp)\n",
    "\n",
    "    for j in range(rand_numb): #random sayıyla döngü kuruyorum \n",
    "       \n",
    "        print(\"j=\",j)\n",
    "        choices=random.choices(to_customer) #to_customer listesinden random seçiyorum \n",
    "        # aynı müşteri kendine göndermemesi iiçin seçimi parçalıyorum\n",
    "        \n",
    "        choices_sp=str(choices) \n",
    "\n",
    "        choices_sp_jo=choices_sp.split(\"-\") \n",
    "\n",
    "        number_to_customer=choices_sp_jo[1]\n",
    "\n",
    "\n",
    "        \n",
    "        number_from_customer=f_c_s.split(\"-\")[1]\n",
    "\n",
    "        # aynı müşteri kendine göndermemesi id leri  kıyaslıyorum eğer aynıysa döngüye devam ediyor \n",
    "        if (number_from_customer[1]== number_to_customer[1]):\n",
    "            print(\"AYNI\")\n",
    "            continue\n",
    "        \n",
    "        \n",
    "        if len(new_from_customer)==loop: # df nin uzunluğuna eşit olunca çıkması lazım\n",
    "            break\n",
    "        new_from_customer.append(from_customer_sp[0]) # ana listeden yeni listeye random sayısı kadar  aynısından ekliyo ki gönderenle alan eşit olsun\n",
    "        print(\"2.for new_from_customer\",len(new_from_customer))\n",
    "        \n",
    "        if len(new_to_customer)==loop:\n",
    "            break\n",
    "        new_to_customer.append(choices[0]) # random seçtiğimiz ögeyi yeni to_custoemr listesine ekliyoruz\n",
    "        \n",
    "        \n",
    "print(new_to_customer)\n"
   ]
  },
  {
   "cell_type": "code",
   "execution_count": null,
   "metadata": {},
   "outputs": [],
   "source": []
  },
  {
   "cell_type": "code",
   "execution_count": 14,
   "metadata": {},
   "outputs": [],
   "source": [
    "amount=list(df[\"amount\"]) # df de ki amount u listeye dönüştürüyorum\n",
    "timestamp=list(df[\"timestamp\"]) #df de ki timestamp u listeye dönüştürüyorum\n",
    "\n"
   ]
  },
  {
   "cell_type": "code",
   "execution_count": 15,
   "metadata": {},
   "outputs": [],
   "source": [
    "xyz= defaultdict(list)"
   ]
  },
  {
   "cell_type": "code",
   "execution_count": 16,
   "metadata": {},
   "outputs": [],
   "source": [
    "# listeleri yeni data frame aktarıyorum\n",
    "xyz['from_customer']=new_from_customer\n",
    "xyz['to_customer']=new_to_customer"
   ]
  },
  {
   "cell_type": "code",
   "execution_count": 17,
   "metadata": {},
   "outputs": [],
   "source": [
    "for i in range(loop):\n",
    "    fake_amaount=[fake.pyfloat(right_digits=2,positive=True,min_value=2.00,max_value=10000.00),fake.pyfloat(right_digits=2,positive=True,min_value=2.00,max_value=10000.00)]\n",
    "    xyz['amount'].append(fake_amaount)\n",
    "    fake_amaount=[fake.date_time_ad(start_datetime=datetime.datetime(2022,9,14)),fake.date_time_ad(start_datetime=datetime.datetime(2022,9,14))]\n",
    "    xyz['timestamp'].append(fake_amaount)\n",
    "    "
   ]
  },
  {
   "cell_type": "code",
   "execution_count": null,
   "metadata": {},
   "outputs": [],
   "source": []
  },
  {
   "cell_type": "code",
   "execution_count": 18,
   "metadata": {},
   "outputs": [],
   "source": [
    "new_data_frame=pd.DataFrame(xyz) # yeni data frame oluşturuyorum\n",
    "\n",
    "\n",
    "new_data_frame=new_data_frame[['from_customer','to_customer','amount','timestamp']]\n",
    "\n"
   ]
  },
  {
   "cell_type": "code",
   "execution_count": 19,
   "metadata": {},
   "outputs": [
    {
     "data": {
      "text/html": [
       "<div>\n",
       "<style scoped>\n",
       "    .dataframe tbody tr th:only-of-type {\n",
       "        vertical-align: middle;\n",
       "    }\n",
       "\n",
       "    .dataframe tbody tr th {\n",
       "        vertical-align: top;\n",
       "    }\n",
       "\n",
       "    .dataframe thead th {\n",
       "        text-align: right;\n",
       "    }\n",
       "</style>\n",
       "<table border=\"1\" class=\"dataframe\">\n",
       "  <thead>\n",
       "    <tr style=\"text-align: right;\">\n",
       "      <th></th>\n",
       "      <th>from_customer</th>\n",
       "      <th>to_customer</th>\n",
       "      <th>amount</th>\n",
       "      <th>timestamp</th>\n",
       "    </tr>\n",
       "  </thead>\n",
       "  <tbody>\n",
       "    <tr>\n",
       "      <th>0</th>\n",
       "      <td>FRM-164582</td>\n",
       "      <td>TO-188513</td>\n",
       "      <td>[1134.5, 9835.86]</td>\n",
       "      <td>[2022-10-06 11:09:39, 2022-10-14 14:07:32]</td>\n",
       "    </tr>\n",
       "    <tr>\n",
       "      <th>1</th>\n",
       "      <td>FRM-169830</td>\n",
       "      <td>TO-188513</td>\n",
       "      <td>[2512.12, 1182.38]</td>\n",
       "      <td>[2022-09-25 01:21:05, 2022-10-04 14:06:29]</td>\n",
       "    </tr>\n",
       "    <tr>\n",
       "      <th>2</th>\n",
       "      <td>FRM-169830</td>\n",
       "      <td>TO-188513</td>\n",
       "      <td>[5127.17, 9742.36]</td>\n",
       "      <td>[2022-10-27 13:04:27, 2022-10-27 02:11:03]</td>\n",
       "    </tr>\n",
       "    <tr>\n",
       "      <th>3</th>\n",
       "      <td>FRM-169830</td>\n",
       "      <td>TO-188513</td>\n",
       "      <td>[1706.2, 6148.32]</td>\n",
       "      <td>[2022-09-30 08:06:57, 2022-10-06 09:41:04]</td>\n",
       "    </tr>\n",
       "    <tr>\n",
       "      <th>4</th>\n",
       "      <td>FRM-169830</td>\n",
       "      <td>TO-188513</td>\n",
       "      <td>[6443.54, 7259.73]</td>\n",
       "      <td>[2022-09-22 10:06:33, 2022-09-22 14:51:14]</td>\n",
       "    </tr>\n",
       "  </tbody>\n",
       "</table>\n",
       "</div>"
      ],
      "text/plain": [
       "  from_customer to_customer              amount  \\\n",
       "0    FRM-164582   TO-188513   [1134.5, 9835.86]   \n",
       "1    FRM-169830   TO-188513  [2512.12, 1182.38]   \n",
       "2    FRM-169830   TO-188513  [5127.17, 9742.36]   \n",
       "3    FRM-169830   TO-188513   [1706.2, 6148.32]   \n",
       "4    FRM-169830   TO-188513  [6443.54, 7259.73]   \n",
       "\n",
       "                                    timestamp  \n",
       "0  [2022-10-06 11:09:39, 2022-10-14 14:07:32]  \n",
       "1  [2022-09-25 01:21:05, 2022-10-04 14:06:29]  \n",
       "2  [2022-10-27 13:04:27, 2022-10-27 02:11:03]  \n",
       "3  [2022-09-30 08:06:57, 2022-10-06 09:41:04]  \n",
       "4  [2022-09-22 10:06:33, 2022-09-22 14:51:14]  "
      ]
     },
     "execution_count": 19,
     "metadata": {},
     "output_type": "execute_result"
    }
   ],
   "source": [
    "new_data_frame.head()"
   ]
  },
  {
   "cell_type": "code",
   "execution_count": 20,
   "metadata": {},
   "outputs": [],
   "source": [
    "just_id_data = defaultdict(list)\n",
    "\n",
    "row_number=int(input(\"Please write the number you wish to see the row size, DON'T CRASH ME!\"))\n"
   ]
  },
  {
   "cell_type": "code",
   "execution_count": 21,
   "metadata": {},
   "outputs": [],
   "source": [
    "for i in range(row_number):\n",
    "    just_id_data['from_customer'].append(fake.bothify(text='1#####'))\n",
    "    just_id_data['amount'].append(fake.pyfloat(right_digits=2,positive=True,min_value=2.00,max_value=10000.00))\n",
    "    just_id_data['timestamp'].append(fake.date_time_ad(start_datetime=datetime.datetime(2022,9,14)))\n",
    "    \n",
    "just_id_data['to_customer']=just_id_data['from_customer']\n",
    "\n",
    "\n",
    "\n"
   ]
  },
  {
   "cell_type": "code",
   "execution_count": 22,
   "metadata": {},
   "outputs": [],
   "source": [
    "jdf=pd.DataFrame(just_id_data)\n",
    "jdf=jdf[['from_customer','to_customer','amount','timestamp']] "
   ]
  },
  {
   "cell_type": "code",
   "execution_count": 23,
   "metadata": {},
   "outputs": [
    {
     "data": {
      "text/html": [
       "<div>\n",
       "<style scoped>\n",
       "    .dataframe tbody tr th:only-of-type {\n",
       "        vertical-align: middle;\n",
       "    }\n",
       "\n",
       "    .dataframe tbody tr th {\n",
       "        vertical-align: top;\n",
       "    }\n",
       "\n",
       "    .dataframe thead th {\n",
       "        text-align: right;\n",
       "    }\n",
       "</style>\n",
       "<table border=\"1\" class=\"dataframe\">\n",
       "  <thead>\n",
       "    <tr style=\"text-align: right;\">\n",
       "      <th></th>\n",
       "      <th>from_customer</th>\n",
       "      <th>to_customer</th>\n",
       "      <th>amount</th>\n",
       "      <th>timestamp</th>\n",
       "    </tr>\n",
       "  </thead>\n",
       "  <tbody>\n",
       "    <tr>\n",
       "      <th>0</th>\n",
       "      <td>110773</td>\n",
       "      <td>110773</td>\n",
       "      <td>3488.59</td>\n",
       "      <td>2022-10-16 19:13:27</td>\n",
       "    </tr>\n",
       "    <tr>\n",
       "      <th>1</th>\n",
       "      <td>185235</td>\n",
       "      <td>185235</td>\n",
       "      <td>7452.78</td>\n",
       "      <td>2022-09-30 01:30:15</td>\n",
       "    </tr>\n",
       "    <tr>\n",
       "      <th>2</th>\n",
       "      <td>124558</td>\n",
       "      <td>124558</td>\n",
       "      <td>4444.52</td>\n",
       "      <td>2022-09-30 20:19:22</td>\n",
       "    </tr>\n",
       "  </tbody>\n",
       "</table>\n",
       "</div>"
      ],
      "text/plain": [
       "  from_customer to_customer   amount           timestamp\n",
       "0        110773      110773  3488.59 2022-10-16 19:13:27\n",
       "1        185235      185235  7452.78 2022-09-30 01:30:15\n",
       "2        124558      124558  4444.52 2022-09-30 20:19:22"
      ]
     },
     "execution_count": 23,
     "metadata": {},
     "output_type": "execute_result"
    }
   ],
   "source": [
    "jdf.head()"
   ]
  },
  {
   "cell_type": "code",
   "execution_count": 24,
   "metadata": {},
   "outputs": [],
   "source": [
    "id_from_customer=list(jdf[\"from_customer\"])#from_customer adlı sütünü listeye çevirdim\n",
    "\n",
    "id_to_customer=list(jdf[\"to_customer\"])#to_customer adlı sütünü listeye çevirdim\n"
   ]
  },
  {
   "cell_type": "code",
   "execution_count": 25,
   "metadata": {},
   "outputs": [],
   "source": [
    "just_id_from_customer=[] # yeni data frame '  e  eklemek içni yeni from_custormer listem \n",
    "just_id_to_customer=[]# yeni data frame '  e  eklemek içni yeni to_ custormer listem\n",
    "just_id_mount=[] \n",
    "just_id_timestamp=[]\n"
   ]
  },
  {
   "cell_type": "code",
   "execution_count": 26,
   "metadata": {},
   "outputs": [],
   "source": [
    "for i in range(len(df)): # df nin uzunluğu kadar bir döngü yapiyorum\n",
    "    rand_numb=random.randint(1,10)  # rastgele random sayi üretiyorum ki from_customer ' random sayida aktivasyonu olsun\n",
    "   \n",
    "    id_from_customer_sp=id_from_customer[i]\n",
    "    f_c_s=''.join(id_from_customer_sp)\n",
    "    to_customer_id=[]\n",
    "    mount_id=[]\n",
    "    timestamp_id=[]\n",
    "    for j in range(rand_numb): #random sayiyla döngü kuruyorum \n",
    "       \n",
    "       \n",
    "        \n",
    "         #to_customer listesinden random seçiyorum \n",
    "        # ayni müşteri kendine göndermemesi iiçin seçimi parçaliyorum\n",
    "        \n",
    "        choices_sp=''.join(random.choices(id_to_customer))\n",
    "        # ayni müşteri kendine göndermemesi id leri  kiyasliyorum eğer ayniysa döngüye devam ediyor \n",
    "        if (f_c_s== choices_sp):\n",
    "            \n",
    "            continue\n",
    "        to_customer_id.append(choices_sp)\n",
    "        mount_id.append(fake.pyfloat(right_digits=2,positive=True,min_value=2.00,max_value=10000.00))\n",
    "        timestamp_id.append(fake.date_time_ad(start_datetime=datetime.datetime(2022,9,14)))\n",
    "       \n",
    "        \n",
    "\n",
    "         \n",
    "       \n",
    "        \n",
    "    \n",
    "    if len(just_id_from_customer)==len(df): # df nin uzunluğuna eşit olunca çikmasi lazim\n",
    "            break\n",
    "    just_id_from_customer.append(f_c_s) # ana listeden yeni listeye random sayisi kadar  aynisindan ekliyo ki gönderenle alan eşit olsun\n",
    "    \n",
    "        \n",
    "    if len(just_id_to_customer)==len(df):\n",
    "            break\n",
    "    # random seçtiğimiz ögeyi yeni to_custoemr listesine ekliyoruz\n",
    "    just_id_to_customer.append(to_customer_id)\n",
    "    just_id_mount.append(mount_id)\n",
    "    just_id_timestamp.append(timestamp_id)\n",
    "     # random seçtiğimiz ögeyi yeni to_custoemr listesine ekliyoruz\n",
    "    del(to_customer_id)\n",
    "        "
   ]
  },
  {
   "cell_type": "code",
   "execution_count": 27,
   "metadata": {},
   "outputs": [],
   "source": [
    "\n",
    "jt_id= defaultdict(list)\n"
   ]
  },
  {
   "cell_type": "code",
   "execution_count": 28,
   "metadata": {},
   "outputs": [],
   "source": [
    "jt_id['from_customer']=just_id_from_customer\n",
    "jt_id['to_customer']=just_id_to_customer\n",
    "jt_id['amount']=just_id_mount\n",
    "jt_id['timestamp']=just_id_timestamp"
   ]
  },
  {
   "cell_type": "code",
   "execution_count": 29,
   "metadata": {},
   "outputs": [],
   "source": [
    "jd_id_df=pd.DataFrame(jt_id)\n",
    "jd_id_df=jd_id_df[['from_customer','to_customer','amount','timestamp']] "
   ]
  },
  {
   "cell_type": "code",
   "execution_count": 30,
   "metadata": {},
   "outputs": [
    {
     "data": {
      "text/html": [
       "<div>\n",
       "<style scoped>\n",
       "    .dataframe tbody tr th:only-of-type {\n",
       "        vertical-align: middle;\n",
       "    }\n",
       "\n",
       "    .dataframe tbody tr th {\n",
       "        vertical-align: top;\n",
       "    }\n",
       "\n",
       "    .dataframe thead th {\n",
       "        text-align: right;\n",
       "    }\n",
       "</style>\n",
       "<table border=\"1\" class=\"dataframe\">\n",
       "  <thead>\n",
       "    <tr style=\"text-align: right;\">\n",
       "      <th></th>\n",
       "      <th>from_customer</th>\n",
       "      <th>to_customer</th>\n",
       "      <th>amount</th>\n",
       "      <th>timestamp</th>\n",
       "    </tr>\n",
       "  </thead>\n",
       "  <tbody>\n",
       "    <tr>\n",
       "      <th>0</th>\n",
       "      <td>110773</td>\n",
       "      <td>[185235, 124558, 185235]</td>\n",
       "      <td>[3147.6, 598.93, 4873.23]</td>\n",
       "      <td>[2022-10-30 14:27:11, 2022-09-21 00:30:36, 202...</td>\n",
       "    </tr>\n",
       "    <tr>\n",
       "      <th>1</th>\n",
       "      <td>185235</td>\n",
       "      <td>[124558, 110773, 110773, 124558, 110773, 110773]</td>\n",
       "      <td>[4645.17, 7942.38, 5224.22, 8891.19, 9127.1, 3...</td>\n",
       "      <td>[2022-10-17 20:11:17, 2022-09-21 01:17:04, 202...</td>\n",
       "    </tr>\n",
       "    <tr>\n",
       "      <th>2</th>\n",
       "      <td>124558</td>\n",
       "      <td>[185235, 110773, 110773, 185235, 110773, 11077...</td>\n",
       "      <td>[3342.94, 5863.42, 477.34, 227.55, 4704.85, 66...</td>\n",
       "      <td>[2022-09-19 05:23:20, 2022-09-25 06:12:44, 202...</td>\n",
       "    </tr>\n",
       "  </tbody>\n",
       "</table>\n",
       "</div>"
      ],
      "text/plain": [
       "  from_customer                                        to_customer  \\\n",
       "0        110773                           [185235, 124558, 185235]   \n",
       "1        185235   [124558, 110773, 110773, 124558, 110773, 110773]   \n",
       "2        124558  [185235, 110773, 110773, 185235, 110773, 11077...   \n",
       "\n",
       "                                              amount  \\\n",
       "0                          [3147.6, 598.93, 4873.23]   \n",
       "1  [4645.17, 7942.38, 5224.22, 8891.19, 9127.1, 3...   \n",
       "2  [3342.94, 5863.42, 477.34, 227.55, 4704.85, 66...   \n",
       "\n",
       "                                           timestamp  \n",
       "0  [2022-10-30 14:27:11, 2022-09-21 00:30:36, 202...  \n",
       "1  [2022-10-17 20:11:17, 2022-09-21 01:17:04, 202...  \n",
       "2  [2022-09-19 05:23:20, 2022-09-25 06:12:44, 202...  "
      ]
     },
     "execution_count": 30,
     "metadata": {},
     "output_type": "execute_result"
    }
   ],
   "source": [
    "jd_id_df"
   ]
  },
  {
   "cell_type": "markdown",
   "metadata": {},
   "source": [
    "#Neo4j"
   ]
  },
  {
   "cell_type": "code",
   "execution_count": 31,
   "metadata": {},
   "outputs": [
    {
     "data": {
      "text/html": [
       "<div>\n",
       "<style scoped>\n",
       "    .dataframe tbody tr th:only-of-type {\n",
       "        vertical-align: middle;\n",
       "    }\n",
       "\n",
       "    .dataframe tbody tr th {\n",
       "        vertical-align: top;\n",
       "    }\n",
       "\n",
       "    .dataframe thead th {\n",
       "        text-align: right;\n",
       "    }\n",
       "</style>\n",
       "<table border=\"1\" class=\"dataframe\">\n",
       "  <thead>\n",
       "    <tr style=\"text-align: right;\">\n",
       "      <th></th>\n",
       "      <th>from_customer</th>\n",
       "      <th>to_customer</th>\n",
       "      <th>amount</th>\n",
       "      <th>timestamp</th>\n",
       "    </tr>\n",
       "  </thead>\n",
       "  <tbody>\n",
       "    <tr>\n",
       "      <th>0</th>\n",
       "      <td>110773</td>\n",
       "      <td>[185235, 124558, 185235]</td>\n",
       "      <td>[3147.6, 598.93, 4873.23]</td>\n",
       "      <td>[2022-10-30 14:27:11, 2022-09-21 00:30:36, 202...</td>\n",
       "    </tr>\n",
       "    <tr>\n",
       "      <th>1</th>\n",
       "      <td>185235</td>\n",
       "      <td>[124558, 110773, 110773, 124558, 110773, 110773]</td>\n",
       "      <td>[4645.17, 7942.38, 5224.22, 8891.19, 9127.1, 3...</td>\n",
       "      <td>[2022-10-17 20:11:17, 2022-09-21 01:17:04, 202...</td>\n",
       "    </tr>\n",
       "    <tr>\n",
       "      <th>2</th>\n",
       "      <td>124558</td>\n",
       "      <td>[185235, 110773, 110773, 185235, 110773, 11077...</td>\n",
       "      <td>[3342.94, 5863.42, 477.34, 227.55, 4704.85, 66...</td>\n",
       "      <td>[2022-09-19 05:23:20, 2022-09-25 06:12:44, 202...</td>\n",
       "    </tr>\n",
       "  </tbody>\n",
       "</table>\n",
       "</div>"
      ],
      "text/plain": [
       "  from_customer                                        to_customer  \\\n",
       "0        110773                           [185235, 124558, 185235]   \n",
       "1        185235   [124558, 110773, 110773, 124558, 110773, 110773]   \n",
       "2        124558  [185235, 110773, 110773, 185235, 110773, 11077...   \n",
       "\n",
       "                                              amount  \\\n",
       "0                          [3147.6, 598.93, 4873.23]   \n",
       "1  [4645.17, 7942.38, 5224.22, 8891.19, 9127.1, 3...   \n",
       "2  [3342.94, 5863.42, 477.34, 227.55, 4704.85, 66...   \n",
       "\n",
       "                                           timestamp  \n",
       "0  [2022-10-30 14:27:11, 2022-09-21 00:30:36, 202...  \n",
       "1  [2022-10-17 20:11:17, 2022-09-21 01:17:04, 202...  \n",
       "2  [2022-09-19 05:23:20, 2022-09-25 06:12:44, 202...  "
      ]
     },
     "execution_count": 31,
     "metadata": {},
     "output_type": "execute_result"
    }
   ],
   "source": [
    "jd_id_df"
   ]
  },
  {
   "cell_type": "code",
   "execution_count": 32,
   "metadata": {},
   "outputs": [],
   "source": [
    "from neo4j import GraphDatabase"
   ]
  },
  {
   "cell_type": "code",
   "execution_count": 36,
   "metadata": {},
   "outputs": [
    {
     "data": {
      "text/plain": [
       "[['110773',\n",
       "  ['185235', '124558', '185235'],\n",
       "  [3147.6, 598.93, 4873.23],\n",
       "  [datetime.datetime(2022, 10, 30, 14, 27, 11),\n",
       "   datetime.datetime(2022, 9, 21, 0, 30, 36),\n",
       "   datetime.datetime(2022, 10, 11, 7, 7, 53)]],\n",
       " ['185235',\n",
       "  ['124558', '110773', '110773', '124558', '110773', '110773'],\n",
       "  [4645.17, 7942.38, 5224.22, 8891.19, 9127.1, 3443.44],\n",
       "  [datetime.datetime(2022, 10, 17, 20, 11, 17),\n",
       "   datetime.datetime(2022, 9, 21, 1, 17, 4),\n",
       "   datetime.datetime(2022, 10, 18, 14, 5, 55),\n",
       "   datetime.datetime(2022, 10, 6, 10, 10, 12),\n",
       "   datetime.datetime(2022, 9, 28, 4, 49, 43),\n",
       "   datetime.datetime(2022, 10, 1, 17, 5, 9)]],\n",
       " ['124558',\n",
       "  ['185235', '110773', '110773', '185235', '110773', '110773', '110773'],\n",
       "  [3342.94, 5863.42, 477.34, 227.55, 4704.85, 6669.52, 8210.48],\n",
       "  [datetime.datetime(2022, 9, 19, 5, 23, 20),\n",
       "   datetime.datetime(2022, 9, 25, 6, 12, 44),\n",
       "   datetime.datetime(2022, 9, 24, 7, 47, 9),\n",
       "   datetime.datetime(2022, 10, 19, 6, 13),\n",
       "   datetime.datetime(2022, 10, 17, 4, 14, 14),\n",
       "   datetime.datetime(2022, 10, 8, 3, 55, 10),\n",
       "   datetime.datetime(2022, 9, 17, 9, 10, 8)]]]"
      ]
     },
     "execution_count": 36,
     "metadata": {},
     "output_type": "execute_result"
    }
   ],
   "source": [
    "new_df=jd_id_df\n",
    "transaction_info=new_df.values.tolist()\n",
    "transaction_info"
   ]
  },
  {
   "cell_type": "code",
   "execution_count": 63,
   "metadata": {},
   "outputs": [
    {
     "name": "stdout",
     "output_type": "stream",
     "text": [
      "110773\n",
      "['185235', '124558', '185235']\n",
      "[3147.6, 598.93, 4873.23]\n",
      "110773\n",
      "['185235', '124558', '185235']\n",
      "[3147.6, 598.93, 4873.23]\n",
      "110773\n",
      "['185235', '124558', '185235']\n",
      "[3147.6, 598.93, 4873.23]\n",
      "185235\n",
      "['124558', '110773', '110773', '124558', '110773', '110773']\n",
      "[4645.17, 7942.38, 5224.22, 8891.19, 9127.1, 3443.44]\n",
      "[datetime.datetime(2022, 10, 17, 20, 11, 17), datetime.datetime(2022, 9, 21, 1, 17, 4), datetime.datetime(2022, 10, 18, 14, 5, 55), datetime.datetime(2022, 10, 6, 10, 10, 12), datetime.datetime(2022, 9, 28, 4, 49, 43), datetime.datetime(2022, 10, 1, 17, 5, 9)]\n"
     ]
    },
    {
     "ename": "IndexError",
     "evalue": "list index out of range",
     "output_type": "error",
     "traceback": [
      "\u001b[0;31m---------------------------------------------------------------------------\u001b[0m",
      "\u001b[0;31mIndexError\u001b[0m                                Traceback (most recent call last)",
      "Cell \u001b[0;32mIn [63], line 11\u001b[0m\n\u001b[1;32m      9\u001b[0m \u001b[39melse\u001b[39;00m:\n\u001b[1;32m     10\u001b[0m     \u001b[39mfor\u001b[39;00m j \u001b[39min\u001b[39;00m \u001b[39mrange\u001b[39m(\u001b[39mlen\u001b[39m(element[block])):\n\u001b[0;32m---> 11\u001b[0m         \u001b[39mprint\u001b[39m(element[j])\n",
      "\u001b[0;31mIndexError\u001b[0m: list index out of range"
     ]
    }
   ],
   "source": [
    "atim=[]\n",
    "\n",
    "for element in transaction_info:\n",
    "    for block in range(len(element)):\n",
    "        if block==0:\n",
    "            if element[block] not in atim:\n",
    "                atim.append(element[block])\n",
    "                continue\n",
    "        else:\n",
    "            for j in range(len(element[block])):\n",
    "                print(element[j])\n",
    "        \n",
    "        "
   ]
  },
  {
   "cell_type": "code",
   "execution_count": 38,
   "metadata": {},
   "outputs": [
    {
     "data": {
      "text/plain": [
       "'110773'"
      ]
     },
     "execution_count": 38,
     "metadata": {},
     "output_type": "execute_result"
    }
   ],
   "source": [
    "transaction_info[0][0]"
   ]
  },
  {
   "cell_type": "code",
   "execution_count": 44,
   "metadata": {},
   "outputs": [
    {
     "name": "stderr",
     "output_type": "stream",
     "text": [
      "/tmp/ipykernel_55193/3151252695.py:37: DeprecationWarning: write_transaction has been renamed to execute_write\n",
      "  session.write_transaction(create_customer, str(transaction_info[i][0]))\n"
     ]
    },
    {
     "name": "stdout",
     "output_type": "stream",
     "text": [
      "146297\n",
      "118308\n"
     ]
    },
    {
     "ename": "IndexError",
     "evalue": "list index out of range",
     "output_type": "error",
     "traceback": [
      "\u001b[0;31m---------------------------------------------------------------------------\u001b[0m",
      "\u001b[0;31mIndexError\u001b[0m                                Traceback (most recent call last)",
      "Cell \u001b[0;32mIn [44], line 43\u001b[0m\n\u001b[1;32m     41\u001b[0m         \u001b[39mfor\u001b[39;00m element_piece \u001b[39min\u001b[39;00m block:\n\u001b[1;32m     42\u001b[0m             \u001b[39mfor\u001b[39;00m j \u001b[39min\u001b[39;00m \u001b[39mrange\u001b[39m(\u001b[39mlen\u001b[39m(element_piece)\u001b[39m+\u001b[39m\u001b[39m1\u001b[39m):\n\u001b[0;32m---> 43\u001b[0m                 \u001b[39mprint\u001b[39m(transaction_info[j][\u001b[39m0\u001b[39m])\n\u001b[1;32m     44\u001b[0m                 \u001b[39m#if j==0:\u001b[39;00m\n\u001b[1;32m     45\u001b[0m                 \u001b[39m#    continue\u001b[39;00m\n\u001b[1;32m     46\u001b[0m                 \u001b[39m#session.write_transaction(create_trans,str(transaction_info[j][0]),str(transaction_info[j][1][j]),str(transaction_info[j][2][j]),str(transaction_info[j][3][j]))\u001b[39;00m\n\u001b[0;32m   (...)\u001b[0m\n\u001b[1;32m     52\u001b[0m         \u001b[39m#session.write_transaction(create_transaction, str(i[0]), str(i[1]))\u001b[39;00m\n\u001b[1;32m     53\u001b[0m         \u001b[39m#session.write_transaction(create_transaction, str(i[0]), \"Carl\")\u001b[39;00m\n\u001b[1;32m     55\u001b[0m driver\u001b[39m.\u001b[39mclose()\n",
      "\u001b[0;31mIndexError\u001b[0m: list index out of range"
     ]
    }
   ],
   "source": [
    "uri = \"neo4j://localhost:7687\"\n",
    "driver = GraphDatabase.driver(uri, auth=(\"neo4j\", \"test\"))\n",
    "\n",
    "def clear_db(tx):\n",
    "    tx.run(\"MATCH(n) Detach Delete n\")\n",
    "\n",
    "def create_customer(tx, customer_id):\n",
    "    tx.run(\"CREATE (c1:customer {name: $name, customer_id: $id})\",name='customer', id=customer_id)\n",
    "\n",
    "#def create_customer2(tx, to_customer):\n",
    " #   tx.run(\"CREATE (c2:Customer2 {name: $name, customer_id: $id})\",name='customer2', id=to_customer)\n",
    "\n",
    "#def create_transaction(tx, from_customer, to_customer,amount,timestamp):\n",
    "#    tx.run(\"MATCH (c1:Customer) WHERE c1.customer_id = $id \"\n",
    "#           \"CREATE (c1)-[:Transaction{amount:$amount,time:$timestamp}]->(c2:Customer {customer_id: $otherid})\",\n",
    "#           id=from_customer, otherid=to_customer,amount=amount,timestamp=timestamp)\n",
    "\n",
    "def create_trans(tx,customer_id,other_customer_id,amount,timestamp):\n",
    "    tx.run(\"MATCH (c1:customer),(c2:customer) \"\n",
    "    \"Where c1.customer_id= $id and c2.customer_id= $otherid \"\n",
    "    \"Create (c1)-[t:Transaction{amount: $amount, time: $timestamp}]->(c2)\",\n",
    "    id=customer_id,otherid=other_customer_id,amount=amount,timestamp=timestamp)\n",
    "\n",
    "        \n",
    "#def deneme(tx,from_customer,to_customer,amount,timestamp):\n",
    "#    tx.run(\"MATCH (c:Customer) WHERE c.customer_id=$id \"\n",
    "#    \"MATCH (c2:Customer) WHERE c2.customer_id=$receiverid \"\n",
    "#    \"Merge (c)-[:Transaction{amount:$amount,time:$timestamp}]->(c2)\",\n",
    "#    id=from_customer,receiverid=to_customer,amount=amount,timestamp=timestamp)\n",
    "\n",
    "with driver.session() as session:\n",
    "\n",
    "    session.execute_write(clear_db)\n",
    "    #Create all nodes Customer 1 and Customer 2 create relationship where there is only one relationship\n",
    "\n",
    "    for i in range(len(transaction_info)):\n",
    "        session.write_transaction(create_customer, str(transaction_info[i][0]))\n",
    "        #for i in range(len(transaction_info[i][1])):\n",
    "        #    session.write_transaction(create_trans,str(transaction_info[i][1][i]),str(transaction_info[i][2][i]),str(transaction_info[i][3][i]))\n",
    "\n",
    "    \n",
    "    for block in transaction_info:\n",
    "        for element_piece in block:\n",
    "            for j in range(len(element_piece)+1):\n",
    "                print(transaction_info[j][0])\n",
    "                #if j==0:\n",
    "                #    continue\n",
    "                session.write_transaction(create_trans,str(transaction_info[j][0]),str(transaction_info[j][1][j]),str(transaction_info[j][2][j]),str(transaction_info[j][3][j]))\n",
    "    #for i in transaction_info:\n",
    "    #    session.write_transaction(create_customer, str(i[0]))\n",
    "    #    session.write_transaction(create_customer, str(i[1]))\n",
    "    #    session.write_transaction(deneme, str(i[0]), str(i[1]),str(i[2]),str(i[3]))\n",
    "\n",
    "        #session.write_transaction(create_transaction, str(i[0]), str(i[1]))\n",
    "        #session.write_transaction(create_transaction, str(i[0]), \"Carl\")\n",
    "\n",
    "driver.close()"
   ]
  }
 ],
 "metadata": {
  "kernelspec": {
   "display_name": "Python 3.10.6 ('env': venv)",
   "language": "python",
   "name": "python3"
  },
  "language_info": {
   "codemirror_mode": {
    "name": "ipython",
    "version": 3
   },
   "file_extension": ".py",
   "mimetype": "text/x-python",
   "name": "python",
   "nbconvert_exporter": "python",
   "pygments_lexer": "ipython3",
   "version": "3.10.6"
  },
  "orig_nbformat": 4,
  "vscode": {
   "interpreter": {
    "hash": "874a6de952d544f4cb877a8d13eabeae5b2291f673584fafdaac9408f5f0cba8"
   }
  }
 },
 "nbformat": 4,
 "nbformat_minor": 2
}

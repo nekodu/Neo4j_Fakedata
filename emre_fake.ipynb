{
 "cells": [
  {
   "cell_type": "code",
   "execution_count": 128,
   "metadata": {},
   "outputs": [],
   "source": [
    "import pandas as pd\n",
    "import numpy as np\n",
    "from faker import Faker\n",
    "from collections import defaultdict\n",
    "from sqlalchemy import create_engine\n",
    "import datetime\n",
    "import random\n",
    "import re\n"
   ]
  },
  {
   "cell_type": "code",
   "execution_count": 129,
   "metadata": {},
   "outputs": [],
   "source": [
    "from numpy import integer\n",
    "\n",
    "\n",
    "fake=Faker()\n",
    "\n",
    "fake_data = defaultdict(list)\n",
    "\n",
    "row_number=int(input(\"Please write the number you wish to see the row size, DON'T CRASH ME!\"))\n",
    "\n"
   ]
  },
  {
   "cell_type": "code",
   "execution_count": null,
   "metadata": {},
   "outputs": [],
   "source": [
    "type(fake_data)"
   ]
  },
  {
   "cell_type": "markdown",
   "metadata": {},
   "source": [
    "#Functions"
   ]
  },
  {
   "cell_type": "markdown",
   "metadata": {},
   "source": [
    "#Fake data is generated."
   ]
  },
  {
   "cell_type": "code",
   "execution_count": null,
   "metadata": {},
   "outputs": [],
   "source": [
    "\n",
    "for i in range(row_number):\n",
    "    fake_data['from_customer'].append(fake.bothify(text='FRM-1#####'))\n",
    "    fake_data['amount'].append(fake.pyfloat(right_digits=2,positive=True,min_value=2.00,max_value=10000.00))\n",
    "    fake_data['timestamp'].append(fake.date_time_ad(start_datetime=datetime.datetime(2022,9,14)))\n",
    "    "
   ]
  },
  {
   "cell_type": "code",
   "execution_count": null,
   "metadata": {},
   "outputs": [],
   "source": [
    "#To_customer feauture\n",
    "templist=[]\n",
    "#check the key value from list_converted defaultdict\n",
    "for k,v in list(fake_data.items()):\n",
    "    if k=='from_customer':\n",
    "        #Change FRM tag to TO tag\n",
    "        for item in v:\n",
    "                splited_item=item.split('-')\n",
    "                splited_item[0]='TO'\n",
    "                concat_item='-'.join(splited_item)\n",
    "                templist.append(concat_item)#item\n",
    "#To_customer yapısında yer değişikliği random\n",
    "random.shuffle(templist)\n",
    "fake_data['to_customer']=templist\n"
   ]
  },
  {
   "cell_type": "code",
   "execution_count": null,
   "metadata": {},
   "outputs": [],
   "source": [
    "df=pd.DataFrame(fake_data)\n",
    "df=df[['from_customer','to_customer','amount','timestamp']] \n",
    "#dropped_df=df.drop(['amount','timestamp'], axis=1)"
   ]
  },
  {
   "cell_type": "code",
   "execution_count": null,
   "metadata": {},
   "outputs": [],
   "source": [
    "try:\n",
    "    equal=any(df['from_customer'].str.extract('(\\d+)')==df['to_customer'].str.extract('(\\d+)'))\n",
    "except:\n",
    "    print(\"Same value error, please check your rows that may be have a same value\")"
   ]
  },
  {
   "cell_type": "code",
   "execution_count": null,
   "metadata": {},
   "outputs": [],
   "source": [
    "#type(df_manipulation['from_customer'].str.extract('(\\d+)')==df_manipulation['to_customer'].str.extract('(\\d+)'))\n",
    "#GET INDEX NUMBER:\n",
    "    #df_manipulation[df['from_customer']=='FRM-757739'].index.item() \n",
    "#Seperate the numbers:\n",
    "    #df_manipulation['from_customer'].str.extract('(\\d+)'))\n",
    "    #df_manipulation['to_customer'].str.extract('(\\d+)'))\n",
    "df.head()"
   ]
  },
  {
   "cell_type": "code",
   "execution_count": null,
   "metadata": {},
   "outputs": [],
   "source": [
    "from_or_to={'from_customer':'from_customer',\n",
    "                    'to_customer':'to_customer'}\n",
    "for i in range(len(from_or_to)):\n",
    "            list(from_or_to.keys())[i]=df[list(from_or_to.keys())[i]].to_list()\n",
    "            \n",
    "\n"
   ]
  },
  {
   "cell_type": "markdown",
   "metadata": {},
   "source": [
    "Emre Kaya"
   ]
  },
  {
   "cell_type": "code",
   "execution_count": null,
   "metadata": {},
   "outputs": [],
   "source": [
    "from_customer=list(df[\"from_customer\"])#from_customer adlı sütünü listeye çevirdim\n",
    "\n",
    "to_customer=list(df[\"to_customer\"])#to_customer adlı sütünü listeye çevirdim\n"
   ]
  },
  {
   "cell_type": "code",
   "execution_count": null,
   "metadata": {},
   "outputs": [],
   "source": [
    "new_from_customer=[] # yeni data frame '  e  eklemek içni yeni from_custormer listem \n",
    "new_to_customer=[]# yeni data frame '  e  eklemek içni yeni to_ custormer listem \n"
   ]
  },
  {
   "cell_type": "code",
   "execution_count": 130,
   "metadata": {},
   "outputs": [],
   "source": [
    "loop=(len(df)*10)"
   ]
  },
  {
   "cell_type": "code",
   "execution_count": null,
   "metadata": {},
   "outputs": [],
   "source": [
    "\n",
    "for i in range(loop): # df nin uzunluğu kadar bir döngü yapıyorum\n",
    "    rand_numb=random.randint(1,10)  # rastgele random sayı üretiyorum ki from_customer ' random sayıda aktivasyonu olsun\n",
    "    print(\"i=\",i,\"- rand_numb=\",rand_numb)\n",
    "    print(\"ilk for new_from_customer\",len(new_from_customer))\n",
    "    from_customer_sp=random.choices(from_customer)\n",
    "    f_c_s=str(from_customer_sp)\n",
    "\n",
    "    for j in range(rand_numb): #random sayıyla döngü kuruyorum \n",
    "       \n",
    "        print(\"j=\",j)\n",
    "        choices=random.choices(to_customer) #to_customer listesinden random seçiyorum \n",
    "        # aynı müşteri kendine göndermemesi iiçin seçimi parçalıyorum\n",
    "        \n",
    "        choices_sp=str(choices) \n",
    "\n",
    "        choices_sp_jo=choices_sp.split(\"-\") \n",
    "\n",
    "        number_to_customer=choices_sp_jo[1]\n",
    "\n",
    "\n",
    "        \n",
    "        number_from_customer=f_c_s.split(\"-\")[1]\n",
    "\n",
    "        # aynı müşteri kendine göndermemesi id leri  kıyaslıyorum eğer aynıysa döngüye devam ediyor \n",
    "        if (number_from_customer[1]== number_to_customer[1]):\n",
    "            print(\"AYNI\")\n",
    "            continue\n",
    "        \n",
    "        \n",
    "        if len(new_from_customer)==loop: # df nin uzunluğuna eşit olunca çıkması lazım\n",
    "            break\n",
    "        new_from_customer.append(from_customer_sp[0]) # ana listeden yeni listeye random sayısı kadar  aynısından ekliyo ki gönderenle alan eşit olsun\n",
    "        print(\"2.for new_from_customer\",len(new_from_customer))\n",
    "        \n",
    "        if len(new_to_customer)==loop:\n",
    "            break\n",
    "        new_to_customer.append(choices[0]) # random seçtiğimiz ögeyi yeni to_custoemr listesine ekliyoruz\n",
    "        \n",
    "        \n",
    "print(new_to_customer)\n"
   ]
  },
  {
   "cell_type": "code",
   "execution_count": null,
   "metadata": {},
   "outputs": [],
   "source": []
  },
  {
   "cell_type": "code",
   "execution_count": null,
   "metadata": {},
   "outputs": [],
   "source": [
    "amount=list(df[\"amount\"]) # df de ki amount u listeye dönüştürüyorum\n",
    "timestamp=list(df[\"timestamp\"]) #df de ki timestamp u listeye dönüştürüyorum\n",
    "\n"
   ]
  },
  {
   "cell_type": "code",
   "execution_count": null,
   "metadata": {},
   "outputs": [],
   "source": [
    "xyz= defaultdict(list)"
   ]
  },
  {
   "cell_type": "code",
   "execution_count": null,
   "metadata": {},
   "outputs": [],
   "source": [
    "# listeleri yeni data frame aktarıyorum\n",
    "xyz['from_customer']=new_from_customer\n",
    "xyz['to_customer']=new_to_customer"
   ]
  },
  {
   "cell_type": "code",
   "execution_count": null,
   "metadata": {},
   "outputs": [],
   "source": [
    "for i in range(loop):\n",
    "    fake_amaount=[fake.pyfloat(right_digits=2,positive=True,min_value=2.00,max_value=10000.00),fake.pyfloat(right_digits=2,positive=True,min_value=2.00,max_value=10000.00)]\n",
    "    xyz['amount'].append(fake_amaount)\n",
    "    fake_amaount=[fake.date_time_ad(start_datetime=datetime.datetime(2022,9,14)),fake.date_time_ad(start_datetime=datetime.datetime(2022,9,14))]\n",
    "    xyz['timestamp'].append(fake_amaount)\n",
    "    "
   ]
  },
  {
   "cell_type": "code",
   "execution_count": null,
   "metadata": {},
   "outputs": [],
   "source": []
  },
  {
   "cell_type": "code",
   "execution_count": null,
   "metadata": {},
   "outputs": [],
   "source": [
    "new_data_frame=pd.DataFrame(xyz) # yeni data frame oluşturuyorum\n",
    "\n",
    "\n",
    "new_data_frame=new_data_frame[['from_customer','to_customer','amount','timestamp']]\n",
    "\n"
   ]
  },
  {
   "cell_type": "code",
   "execution_count": null,
   "metadata": {},
   "outputs": [],
   "source": [
    "new_data_frame.head()"
   ]
  },
  {
   "cell_type": "code",
   "execution_count": null,
   "metadata": {},
   "outputs": [],
   "source": [
    "new_data_frame.to_csv(\"benemre\")"
   ]
  },
  {
   "cell_type": "code",
   "execution_count": 131,
   "metadata": {},
   "outputs": [],
   "source": [
    "just_ıd_data = defaultdict(list)\n",
    "\n",
    "row_number=int(input(\"Please write the number you wish to see the row size, DON'T CRASH ME!\"))\n"
   ]
  },
  {
   "cell_type": "code",
   "execution_count": 132,
   "metadata": {},
   "outputs": [],
   "source": [
    "for i in range(row_number):\n",
    "    just_ıd_data['from_customer'].append(fake.bothify(text='1#####'))\n",
    "    just_ıd_data['amount'].append(fake.pyfloat(right_digits=2,positive=True,min_value=2.00,max_value=10000.00))\n",
    "    just_ıd_data['timestamp'].append(fake.date_time_ad(start_datetime=datetime.datetime(2022,9,14)))\n",
    "    \n",
    "just_ıd_data['to_customer']=just_ıd_data['from_customer']\n",
    "\n",
    "\n",
    "\n"
   ]
  },
  {
   "cell_type": "code",
   "execution_count": 133,
   "metadata": {},
   "outputs": [],
   "source": [
    "jdf=pd.DataFrame(just_ıd_data)\n",
    "jdf=jdf[['from_customer','to_customer','amount','timestamp']] "
   ]
  },
  {
   "cell_type": "code",
   "execution_count": 134,
   "metadata": {},
   "outputs": [
    {
     "data": {
      "text/html": [
       "<div>\n",
       "<style scoped>\n",
       "    .dataframe tbody tr th:only-of-type {\n",
       "        vertical-align: middle;\n",
       "    }\n",
       "\n",
       "    .dataframe tbody tr th {\n",
       "        vertical-align: top;\n",
       "    }\n",
       "\n",
       "    .dataframe thead th {\n",
       "        text-align: right;\n",
       "    }\n",
       "</style>\n",
       "<table border=\"1\" class=\"dataframe\">\n",
       "  <thead>\n",
       "    <tr style=\"text-align: right;\">\n",
       "      <th></th>\n",
       "      <th>from_customer</th>\n",
       "      <th>to_customer</th>\n",
       "      <th>amount</th>\n",
       "      <th>timestamp</th>\n",
       "    </tr>\n",
       "  </thead>\n",
       "  <tbody>\n",
       "    <tr>\n",
       "      <th>0</th>\n",
       "      <td>194755</td>\n",
       "      <td>194755</td>\n",
       "      <td>3518.28</td>\n",
       "      <td>2022-10-09 08:21:30</td>\n",
       "    </tr>\n",
       "    <tr>\n",
       "      <th>1</th>\n",
       "      <td>111164</td>\n",
       "      <td>111164</td>\n",
       "      <td>3268.40</td>\n",
       "      <td>2022-10-22 20:24:31</td>\n",
       "    </tr>\n",
       "    <tr>\n",
       "      <th>2</th>\n",
       "      <td>186848</td>\n",
       "      <td>186848</td>\n",
       "      <td>7044.91</td>\n",
       "      <td>2022-10-31 16:20:14</td>\n",
       "    </tr>\n",
       "    <tr>\n",
       "      <th>3</th>\n",
       "      <td>143688</td>\n",
       "      <td>143688</td>\n",
       "      <td>8247.93</td>\n",
       "      <td>2022-10-29 12:45:59</td>\n",
       "    </tr>\n",
       "    <tr>\n",
       "      <th>4</th>\n",
       "      <td>199981</td>\n",
       "      <td>199981</td>\n",
       "      <td>2023.37</td>\n",
       "      <td>2022-09-23 15:00:54</td>\n",
       "    </tr>\n",
       "  </tbody>\n",
       "</table>\n",
       "</div>"
      ],
      "text/plain": [
       "  from_customer to_customer   amount           timestamp\n",
       "0        194755      194755  3518.28 2022-10-09 08:21:30\n",
       "1        111164      111164  3268.40 2022-10-22 20:24:31\n",
       "2        186848      186848  7044.91 2022-10-31 16:20:14\n",
       "3        143688      143688  8247.93 2022-10-29 12:45:59\n",
       "4        199981      199981  2023.37 2022-09-23 15:00:54"
      ]
     },
     "execution_count": 134,
     "metadata": {},
     "output_type": "execute_result"
    }
   ],
   "source": [
    "jdf.head()"
   ]
  },
  {
   "cell_type": "code",
   "execution_count": 135,
   "metadata": {},
   "outputs": [],
   "source": [
    "ıd_from_customer=list(jdf[\"from_customer\"])#from_customer adlı sütünü listeye çevirdim\n",
    "\n",
    "ıd_to_customer=list(jdf[\"to_customer\"])#to_customer adlı sütünü listeye çevirdim\n"
   ]
  },
  {
   "cell_type": "code",
   "execution_count": 136,
   "metadata": {},
   "outputs": [],
   "source": [
    "just_ıd_from_customer=[] # yeni data frame '  e  eklemek içni yeni from_custormer listem \n",
    "just_ıd_to_customer=[]# yeni data frame '  e  eklemek içni yeni to_ custormer listem\n",
    "just_ıd_mount=[] \n",
    "just_ıd_timestamp=[]\n"
   ]
  },
  {
   "cell_type": "code",
   "execution_count": 137,
   "metadata": {},
   "outputs": [],
   "source": [
    "for i in range(loop): # df nin uzunluğu kadar bir döngü yapıyorum\n",
    "    rand_numb=random.randint(1,10)  # rastgele random sayı üretiyorum ki from_customer ' random sayıda aktivasyonu olsun\n",
    "   \n",
    "    ıd_from_customer_sp=random.choices(ıd_from_customer)\n",
    "    f_c_s=''.join(ıd_from_customer_sp)\n",
    "    to_customer_ıd=[]\n",
    "    mount_ıd=[]\n",
    "    timestamp_ıd=[]\n",
    "    for j in range(rand_numb): #random sayıyla döngü kuruyorum \n",
    "       \n",
    "       \n",
    "        \n",
    "         #to_customer listesinden random seçiyorum \n",
    "        # aynı müşteri kendine göndermemesi iiçin seçimi parçalıyorum\n",
    "        \n",
    "        choices_sp=''.join(random.choices(ıd_to_customer))\n",
    "        # aynı müşteri kendine göndermemesi id leri  kıyaslıyorum eğer aynıysa döngüye devam ediyor \n",
    "        if (f_c_s== choices_sp):\n",
    "            \n",
    "            continue\n",
    "        to_customer_ıd.append(choices_sp)\n",
    "        mount_ıd.append(fake.pyfloat(right_digits=2,positive=True,min_value=2.00,max_value=10000.00))\n",
    "        timestamp_ıd.append(fake.date_time_ad(start_datetime=datetime.datetime(2022,9,14)))\n",
    "       \n",
    "        \n",
    "\n",
    "         \n",
    "       \n",
    "        \n",
    "    \n",
    "    if len(just_ıd_from_customer)==loop: # df nin uzunluğuna eşit olunca çıkması lazım\n",
    "            break\n",
    "    just_ıd_from_customer.append(f_c_s) # ana listeden yeni listeye random sayısı kadar  aynısından ekliyo ki gönderenle alan eşit olsun\n",
    "    \n",
    "        \n",
    "    if len(just_ıd_to_customer)==loop:\n",
    "            break\n",
    "    # random seçtiğimiz ögeyi yeni to_custoemr listesine ekliyoruz\n",
    "    just_ıd_to_customer.append(to_customer_ıd)\n",
    "    just_ıd_mount.append(mount_ıd)\n",
    "    just_ıd_timestamp.append(timestamp_ıd)\n",
    "     # random seçtiğimiz ögeyi yeni to_custoemr listesine ekliyoruz\n",
    "    del(to_customer_ıd)\n",
    "        "
   ]
  },
  {
   "cell_type": "code",
   "execution_count": 138,
   "metadata": {},
   "outputs": [],
   "source": [
    "\n",
    "jt_ıd= defaultdict(list)\n"
   ]
  },
  {
   "cell_type": "code",
   "execution_count": 141,
   "metadata": {},
   "outputs": [],
   "source": [
    "jt_ıd['from_customer']=just_ıd_from_customer\n",
    "jt_ıd['to_customer']=just_ıd_to_customer\n",
    "jt_ıd['amount']=just_ıd_mount\n",
    "jt_ıd['timestamp']=just_ıd_timestamp"
   ]
  },
  {
   "cell_type": "code",
   "execution_count": 142,
   "metadata": {},
   "outputs": [],
   "source": [
    "jd_ıd_df=pd.DataFrame(jt_ıd)\n",
    "jd_ıd_df=jd_ıd_df[['from_customer','to_customer','amount','timestamp']] "
   ]
  },
  {
   "cell_type": "code",
   "execution_count": 145,
   "metadata": {},
   "outputs": [
    {
     "data": {
      "text/html": [
       "<div>\n",
       "<style scoped>\n",
       "    .dataframe tbody tr th:only-of-type {\n",
       "        vertical-align: middle;\n",
       "    }\n",
       "\n",
       "    .dataframe tbody tr th {\n",
       "        vertical-align: top;\n",
       "    }\n",
       "\n",
       "    .dataframe thead th {\n",
       "        text-align: right;\n",
       "    }\n",
       "</style>\n",
       "<table border=\"1\" class=\"dataframe\">\n",
       "  <thead>\n",
       "    <tr style=\"text-align: right;\">\n",
       "      <th></th>\n",
       "      <th>from_customer</th>\n",
       "      <th>to_customer</th>\n",
       "      <th>amount</th>\n",
       "      <th>timestamp</th>\n",
       "    </tr>\n",
       "  </thead>\n",
       "  <tbody>\n",
       "    <tr>\n",
       "      <th>0</th>\n",
       "      <td>110551</td>\n",
       "      <td>[103989, 140234, 129983]</td>\n",
       "      <td>[7677.47, 2919.91, 7216.27]</td>\n",
       "      <td>[2022-10-24 18:23:55, 2022-09-18 11:00:45, 202...</td>\n",
       "    </tr>\n",
       "    <tr>\n",
       "      <th>1</th>\n",
       "      <td>160858</td>\n",
       "      <td>[160536, 158522, 194755]</td>\n",
       "      <td>[3768.96, 9698.65, 9579.2]</td>\n",
       "      <td>[2022-09-16 01:33:21, 2022-10-09 20:11:04, 202...</td>\n",
       "    </tr>\n",
       "    <tr>\n",
       "      <th>2</th>\n",
       "      <td>120307</td>\n",
       "      <td>[119835, 119835, 194755]</td>\n",
       "      <td>[1018.71, 4005.64, 691.54]</td>\n",
       "      <td>[2022-10-28 02:12:01, 2022-09-29 23:26:08, 202...</td>\n",
       "    </tr>\n",
       "    <tr>\n",
       "      <th>3</th>\n",
       "      <td>160536</td>\n",
       "      <td>[144354, 127065, 177703]</td>\n",
       "      <td>[1637.28, 7462.65, 7966.23]</td>\n",
       "      <td>[2022-10-10 06:38:10, 2022-10-23 22:50:50, 202...</td>\n",
       "    </tr>\n",
       "    <tr>\n",
       "      <th>4</th>\n",
       "      <td>128153</td>\n",
       "      <td>[176820, 188701, 199822, 194755, 129983, 16053...</td>\n",
       "      <td>[3230.52, 6294.43, 3475.66, 8033.17, 7155.54, ...</td>\n",
       "      <td>[2022-09-20 12:27:25, 2022-09-28 05:27:16, 202...</td>\n",
       "    </tr>\n",
       "  </tbody>\n",
       "</table>\n",
       "</div>"
      ],
      "text/plain": [
       "  from_customer                                        to_customer  \\\n",
       "0        110551                           [103989, 140234, 129983]   \n",
       "1        160858                           [160536, 158522, 194755]   \n",
       "2        120307                           [119835, 119835, 194755]   \n",
       "3        160536                           [144354, 127065, 177703]   \n",
       "4        128153  [176820, 188701, 199822, 194755, 129983, 16053...   \n",
       "\n",
       "                                              amount  \\\n",
       "0                        [7677.47, 2919.91, 7216.27]   \n",
       "1                         [3768.96, 9698.65, 9579.2]   \n",
       "2                         [1018.71, 4005.64, 691.54]   \n",
       "3                        [1637.28, 7462.65, 7966.23]   \n",
       "4  [3230.52, 6294.43, 3475.66, 8033.17, 7155.54, ...   \n",
       "\n",
       "                                           timestamp  \n",
       "0  [2022-10-24 18:23:55, 2022-09-18 11:00:45, 202...  \n",
       "1  [2022-09-16 01:33:21, 2022-10-09 20:11:04, 202...  \n",
       "2  [2022-10-28 02:12:01, 2022-09-29 23:26:08, 202...  \n",
       "3  [2022-10-10 06:38:10, 2022-10-23 22:50:50, 202...  \n",
       "4  [2022-09-20 12:27:25, 2022-09-28 05:27:16, 202...  "
      ]
     },
     "execution_count": 145,
     "metadata": {},
     "output_type": "execute_result"
    }
   ],
   "source": [
    "jd_ıd_df.head()"
   ]
  },
  {
   "cell_type": "markdown",
   "metadata": {},
   "source": [
    "#Neo4j"
   ]
  },
  {
   "cell_type": "code",
   "execution_count": null,
   "metadata": {},
   "outputs": [],
   "source": [
    "from neo4j import GraphDatabase"
   ]
  },
  {
   "cell_type": "code",
   "execution_count": null,
   "metadata": {},
   "outputs": [],
   "source": [
    "new_df=new_data_frame\n",
    "transaction_info=new_df.values.tolist()"
   ]
  },
  {
   "cell_type": "code",
   "execution_count": null,
   "metadata": {},
   "outputs": [],
   "source": [
    "uri = \"neo4j://localhost:7687\"\n",
    "driver = GraphDatabase.driver(uri, auth=(\"neo4j\", \"test\"))\n",
    "\n",
    "def clear_db(tx):\n",
    "    tx.run(\"MATCH(n) Detach Delete n\")\n",
    "\n",
    "def create_customer(tx, from_customer):\n",
    "    tx.run(\"CREATE (c1:Customer {name: $name, customer_id: $id})\",name='customer', id=from_customer)\n",
    "\n",
    "#def create_customer2(tx, to_customer):\n",
    " #   tx.run(\"CREATE (c2:Customer2 {name: $name, customer_id: $id})\",name='customer2', id=to_customer)\n",
    "\n",
    "def create_transaction(tx, from_customer, to_customer,amount,timestamp):\n",
    "    tx.run(\"MATCH (c1:Customer) WHERE c1.customer_id = $id \"\n",
    "           \"CREATE (c1)-[:Transaction{amount:$amount,time:$timestamp}]->(c2:Customer {customer_id: $otherid})\",\n",
    "           id=from_customer, otherid=to_customer,amount=amount,timestamp=timestamp)\n",
    "\n",
    "def deneme(tx,from_customer,to_customer,amount,timestamp):\n",
    "    tx.run(\"MATCH (c:Customer) WHERE c.customer_id=$id \"\n",
    "    \"MATCH (c2:Customer) WHERE c2.customer_id=$receiverid \"\n",
    "    \"Merge (c)-[:Transaction{amount:$amount,time:$timestamp}]->(c2)\",\n",
    "    id=from_customer,receiverid=to_customer,amount=amount,timestamp=timestamp)\n",
    "\n",
    "with driver.session() as session:\n",
    "\n",
    "    session.execute_write(clear_db)\n",
    "    #Create all nodes Customer 1 and Customer 2 create relationship where there is only one relationship\n",
    "    for i in transaction_info:\n",
    "        session.write_transaction(create_customer, str(i[0]))\n",
    "        session.write_transaction(create_customer, str(i[1]))\n",
    "        session.write_transaction(deneme, str(i[0]), str(i[1]),str(i[2]),str(i[3]))\n",
    "\n",
    "        #session.write_transaction(create_transaction, str(i[0]), str(i[1]))\n",
    "        #session.write_transaction(create_transaction, str(i[0]), \"Carl\")\n",
    "\n",
    "driver.close()"
   ]
  }
 ],
 "metadata": {
  "kernelspec": {
   "display_name": "Python 3.10.8 ('env': venv)",
   "language": "python",
   "name": "python3"
  },
  "language_info": {
   "codemirror_mode": {
    "name": "ipython",
    "version": 3
   },
   "file_extension": ".py",
   "mimetype": "text/x-python",
   "name": "python",
   "nbconvert_exporter": "python",
   "pygments_lexer": "ipython3",
   "version": "3.10.8"
  },
  "orig_nbformat": 4,
  "vscode": {
   "interpreter": {
    "hash": "774921eb614e80520c8e88f89c784a9b1f65a52dcd44a81afb6a46a8438a2259"
   }
  }
 },
 "nbformat": 4,
 "nbformat_minor": 2
}

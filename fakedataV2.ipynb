{
 "cells": [
  {
   "cell_type": "code",
   "execution_count": 1,
   "metadata": {},
   "outputs": [],
   "source": [
    "import pandas as pd\n",
    "import numpy as np\n",
    "from faker import Faker\n",
    "from collections import defaultdict\n",
    "from sqlalchemy import create_engine\n",
    "import datetime\n",
    "import random\n",
    "import re\n"
   ]
  },
  {
   "cell_type": "markdown",
   "metadata": {},
   "source": [
    "#Fake data creation"
   ]
  },
  {
   "cell_type": "code",
   "execution_count": 2,
   "metadata": {},
   "outputs": [],
   "source": [
    "from numpy import integer\n",
    "\n",
    "\n",
    "fake=Faker()\n",
    "\n",
    "fake_data = defaultdict(list)\n",
    "\n",
    "row_number=int(input(\"Please write the number you wish to see the row size, DON'T CRASH ME!\"))\n",
    "\n"
   ]
  },
  {
   "cell_type": "code",
   "execution_count": 3,
   "metadata": {},
   "outputs": [],
   "source": [
    "\n",
    "for i in range(row_number):\n",
    "    fake_data['customer1'].append(fake.bothify(text='16######'))\n",
    "    fake_data['amount'].append(fake.pyfloat(right_digits=2,positive=True,min_value=2.00,max_value=10000.00))\n",
    "    fake_data['timestamp'].append(fake.date_time_ad(start_datetime=datetime.datetime(2022,9,14)))\n",
    "    "
   ]
  },
  {
   "cell_type": "code",
   "execution_count": 4,
   "metadata": {},
   "outputs": [
    {
     "data": {
      "text/plain": [
       "defaultdict(list,\n",
       "            {'customer1': ['16210714',\n",
       "              '16272462',\n",
       "              '16814287',\n",
       "              '16419300',\n",
       "              '16633040',\n",
       "              '16083753',\n",
       "              '16036182',\n",
       "              '16827025',\n",
       "              '16067162',\n",
       "              '16250990'],\n",
       "             'amount': [9681.8,\n",
       "              6041.2,\n",
       "              892.2,\n",
       "              2161.1,\n",
       "              2507.54,\n",
       "              1728.86,\n",
       "              4963.82,\n",
       "              9915.0,\n",
       "              8129.99,\n",
       "              4649.6],\n",
       "             'timestamp': [datetime.datetime(2022, 9, 15, 21, 21, 51),\n",
       "              datetime.datetime(2022, 10, 1, 20, 26, 48),\n",
       "              datetime.datetime(2022, 9, 26, 11, 56, 30),\n",
       "              datetime.datetime(2022, 10, 28, 10, 24, 48),\n",
       "              datetime.datetime(2022, 10, 18, 17, 26, 24),\n",
       "              datetime.datetime(2022, 10, 7, 14, 16, 45),\n",
       "              datetime.datetime(2022, 10, 2, 3, 11, 14),\n",
       "              datetime.datetime(2022, 10, 30, 6, 46, 31),\n",
       "              datetime.datetime(2022, 10, 18, 7, 16, 56),\n",
       "              datetime.datetime(2022, 9, 14, 17, 0, 46)],\n",
       "             'customer2': ['16083753',\n",
       "              '16419300',\n",
       "              '16814287',\n",
       "              '16067162',\n",
       "              '16633040',\n",
       "              '16250990',\n",
       "              '16827025',\n",
       "              '16210714',\n",
       "              '16272462',\n",
       "              '16036182']})"
      ]
     },
     "execution_count": 4,
     "metadata": {},
     "output_type": "execute_result"
    }
   ],
   "source": [
    "copy_list=fake_data['customer1'].copy()\n",
    "random.shuffle(copy_list)\n",
    "fake_data['customer2']=copy_list\n",
    "fake_data"
   ]
  },
  {
   "cell_type": "markdown",
   "metadata": {},
   "source": [
    "#Adding dict to dataframe"
   ]
  },
  {
   "cell_type": "code",
   "execution_count": 30,
   "metadata": {},
   "outputs": [
    {
     "name": "stdout",
     "output_type": "stream",
     "text": [
      "  customer1 customer2   amount           timestamp\n",
      "0  16210714  16083753  9681.80 2022-09-15 21:21:51\n",
      "1  16272462  16419300  6041.20 2022-10-01 20:26:48\n",
      "2  16814287  16814287   892.20 2022-09-26 11:56:30\n",
      "3  16419300  16067162  2161.10 2022-10-28 10:24:48\n",
      "4  16633040  16633040  2507.54 2022-10-18 17:26:24\n",
      "5  16083753  16250990  1728.86 2022-10-07 14:16:45\n",
      "6  16036182  16827025  4963.82 2022-10-02 03:11:14\n",
      "7  16827025  16210714  9915.00 2022-10-30 06:46:31\n",
      "8  16067162  16272462  8129.99 2022-10-18 07:16:56\n",
      "9  16250990  16036182  4649.60 2022-09-14 17:00:46\n"
     ]
    }
   ],
   "source": [
    "df=pd.DataFrame(fake_data)\n",
    "\n",
    "df=df[['customer1','customer2','amount','timestamp']]\n",
    "\n",
    "print(df)"
   ]
  },
  {
   "cell_type": "code",
   "execution_count": 35,
   "metadata": {},
   "outputs": [
    {
     "ename": "IndexError",
     "evalue": "list index out of range",
     "output_type": "error",
     "traceback": [
      "\u001b[0;31m---------------------------------------------------------------------------\u001b[0m",
      "\u001b[0;31mIndexError\u001b[0m                                Traceback (most recent call last)",
      "Cell \u001b[0;32mIn [35], line 5\u001b[0m\n\u001b[1;32m      3\u001b[0m b\u001b[39m=\u001b[39mdf[\u001b[39m'\u001b[39m\u001b[39mcustomer2\u001b[39m\u001b[39m'\u001b[39m][i]\n\u001b[1;32m      4\u001b[0m rnd \u001b[39m=\u001b[39mrandom\u001b[39m.\u001b[39mchoices(df[\u001b[39m'\u001b[39m\u001b[39mcustomer1\u001b[39m\u001b[39m'\u001b[39m])\n\u001b[0;32m----> 5\u001b[0m \u001b[39mprint\u001b[39m(\u001b[39mtype\u001b[39m(rnd[\u001b[39m1\u001b[39;49m]))\n\u001b[1;32m      6\u001b[0m \u001b[39m\"\"\"\u001b[39;00m\n\u001b[1;32m      7\u001b[0m \u001b[39mif a==b:\u001b[39;00m\n\u001b[1;32m      8\u001b[0m \u001b[39m    if rnd == df['customer1'][i]:\u001b[39;00m\n\u001b[0;32m   (...)\u001b[0m\n\u001b[1;32m     12\u001b[0m \u001b[39m    df['customer2'][i]=str(rnd)\u001b[39;00m\n\u001b[1;32m     13\u001b[0m \u001b[39m    \"\"\"\u001b[39;00m\n",
      "\u001b[0;31mIndexError\u001b[0m: list index out of range"
     ]
    }
   ],
   "source": [
    "for i in range (len(df['customer1'])):\n",
    "        a=df['customer1'][i]\n",
    "        b=df['customer2'][i]\n",
    "        rnd =random.choices(df['customer1'])\n",
    "        print(type(rnd[i]))\n",
    "        \"\"\"\n",
    "        if a==b:\n",
    "            if rnd == df['customer1'][i]:\n",
    "                rnd =random.choices(df['customer1'])\n",
    "                print(type(rnd))\n",
    "                df['customer2'][i]=str(rnd)\n",
    "            df['customer2'][i]=str(rnd)\n",
    "            \"\"\"\n",
    "    \n",
    "\n",
    "        \n",
    "            \n",
    "       \n",
    "\n",
    "\n",
    "    \n",
    "\n",
    "\n",
    "\n"
   ]
  },
  {
   "cell_type": "code",
   "execution_count": 28,
   "metadata": {},
   "outputs": [
    {
     "data": {
      "text/plain": [
       "0      16083753\n",
       "1      16419300\n",
       "2    [16210714]\n",
       "3      16067162\n",
       "4    [16083753]\n",
       "5      16250990\n",
       "6      16827025\n",
       "7      16210714\n",
       "8      16272462\n",
       "9      16036182\n",
       "Name: customer2, dtype: object"
      ]
     },
     "execution_count": 28,
     "metadata": {},
     "output_type": "execute_result"
    }
   ],
   "source": [
    "df['customer2']"
   ]
  }
 ],
 "metadata": {
  "kernelspec": {
   "display_name": "Python 3.10.6 ('env': venv)",
   "language": "python",
   "name": "python3"
  },
  "language_info": {
   "codemirror_mode": {
    "name": "ipython",
    "version": 3
   },
   "file_extension": ".py",
   "mimetype": "text/x-python",
   "name": "python",
   "nbconvert_exporter": "python",
   "pygments_lexer": "ipython3",
   "version": "3.10.6"
  },
  "orig_nbformat": 4,
  "vscode": {
   "interpreter": {
    "hash": "874a6de952d544f4cb877a8d13eabeae5b2291f673584fafdaac9408f5f0cba8"
   }
  }
 },
 "nbformat": 4,
 "nbformat_minor": 2
}

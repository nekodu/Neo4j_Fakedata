{
 "cells": [
  {
   "cell_type": "code",
   "execution_count": 1,
   "metadata": {},
   "outputs": [],
   "source": [
    "import pandas as pd\n",
    "import numpy as np\n",
    "from faker import Faker\n",
    "from collections import defaultdict\n",
    "from sqlalchemy import create_engine\n",
    "import datetime\n",
    "import random\n",
    "import re\n"
   ]
  },
  {
   "cell_type": "markdown",
   "metadata": {},
   "source": [
    "# Fake data creation"
   ]
  },
  {
   "cell_type": "code",
   "execution_count": 2,
   "metadata": {},
   "outputs": [],
   "source": [
    "from numpy import integer\n",
    "\n",
    "\n",
    "fake=Faker()\n",
    "\n",
    "fake_data = defaultdict(list)\n",
    "\n",
    "row_number=int(input(\"Please write the number you wish to see the row size, DON'T CRASH ME!\"))\n",
    "\n"
   ]
  },
  {
   "cell_type": "code",
   "execution_count": 3,
   "metadata": {},
   "outputs": [],
   "source": [
    "# Creating sender_id as much as the given input\n",
    "for i in range(row_number):\n",
    "    fake_data['sender_id'].append(fake.bothify(text='####'))\n",
    "\n",
    "sender_id=fake_data[\"sender_id\"]\n",
    "\n",
    "#Creating other futures\n",
    "manipulated_receiver_id=[]\n",
    "amount=[]\n",
    "timestamp=[]"
   ]
  },
  {
   "cell_type": "code",
   "execution_count": 4,
   "metadata": {},
   "outputs": [],
   "source": [
    "for idx in range(len(fake_data['sender_id'])): #For loop for creating random values in features\n",
    "\n",
    "    temp_sender_val=sender_id[idx]\n",
    "    temp_receiver_list=[]\n",
    "    temp_amount_list=[]\n",
    "    temp_timestamp_list=[]\n",
    "    \n",
    "    #Creating random relationship on two nodes\n",
    "    for j in range(random.randint(1,10)): \n",
    "        \n",
    "        #Choosing random sender_id and adding to reciever_id\n",
    "        rnd_reciever_id=''.join(random.choices(sender_id)) \n",
    "        \n",
    "        #If sender and receiver feature value same break from the loop\n",
    "        if (temp_sender_val== rnd_reciever_id):\n",
    "            continue\n",
    "\n",
    "        #Creating non-existed features\n",
    "        temp_receiver_list.append(rnd_reciever_id)\n",
    "        temp_amount_list.append(fake.pyfloat(right_digits=2,positive=True,min_value=2.00,max_value=10000.00))\n",
    "        temp_timestamp_list.append(fake.date_time_ad(start_datetime=datetime.datetime(2022,9,14)))\n",
    "    \n",
    "    #Check the size of the receiver_id compare it with sender_id\n",
    "    if len(manipulated_receiver_id)==len(fake_data['sender_id']):\n",
    "            break\n",
    "\n",
    "\n",
    "    #Appending every feature value to list\n",
    "    manipulated_receiver_id.append(temp_receiver_list)\n",
    "    amount.append(temp_amount_list)\n",
    "    timestamp.append(temp_timestamp_list)\n",
    "        "
   ]
  },
  {
   "cell_type": "code",
   "execution_count": 5,
   "metadata": {},
   "outputs": [
    {
     "name": "stdout",
     "output_type": "stream",
     "text": [
      "10\n"
     ]
    },
    {
     "data": {
      "text/html": [
       "<div>\n",
       "<style scoped>\n",
       "    .dataframe tbody tr th:only-of-type {\n",
       "        vertical-align: middle;\n",
       "    }\n",
       "\n",
       "    .dataframe tbody tr th {\n",
       "        vertical-align: top;\n",
       "    }\n",
       "\n",
       "    .dataframe thead th {\n",
       "        text-align: right;\n",
       "    }\n",
       "</style>\n",
       "<table border=\"1\" class=\"dataframe\">\n",
       "  <thead>\n",
       "    <tr style=\"text-align: right;\">\n",
       "      <th></th>\n",
       "      <th>sender_id</th>\n",
       "      <th>receiver_id</th>\n",
       "      <th>amount</th>\n",
       "      <th>timestamp</th>\n",
       "    </tr>\n",
       "  </thead>\n",
       "  <tbody>\n",
       "    <tr>\n",
       "      <th>0</th>\n",
       "      <td>9718</td>\n",
       "      <td>[0234, 7047, 6673, 6091, 0841, 6673]</td>\n",
       "      <td>[9506.3, 4161.95, 7939.8, 9866.85, 4344.94, 71...</td>\n",
       "      <td>[2022-10-08 21:24:00, 2022-10-20 06:36:58, 202...</td>\n",
       "    </tr>\n",
       "    <tr>\n",
       "      <th>1</th>\n",
       "      <td>4132</td>\n",
       "      <td>[3922, 6673, 0841, 6673, 4574, 0234, 7047, 971...</td>\n",
       "      <td>[7833.45, 8556.83, 6274.4, 5714.17, 331.36, 57...</td>\n",
       "      <td>[2022-09-16 21:54:08, 2022-10-17 15:20:33, 202...</td>\n",
       "    </tr>\n",
       "    <tr>\n",
       "      <th>2</th>\n",
       "      <td>0841</td>\n",
       "      <td>[4574, 6091, 4132, 4132, 7047, 7047, 3922, 3922]</td>\n",
       "      <td>[6463.3, 8331.83, 1841.29, 1445.53, 5891.66, 8...</td>\n",
       "      <td>[2022-10-01 01:33:21, 2022-10-22 04:49:53, 202...</td>\n",
       "    </tr>\n",
       "    <tr>\n",
       "      <th>3</th>\n",
       "      <td>6091</td>\n",
       "      <td>[0234, 3922, 9718, 9223, 0841, 0234, 0234, 4574]</td>\n",
       "      <td>[8743.91, 1083.0, 1835.34, 4033.26, 3298.62, 4...</td>\n",
       "      <td>[2022-09-16 12:43:52, 2022-10-22 18:52:35, 202...</td>\n",
       "    </tr>\n",
       "    <tr>\n",
       "      <th>4</th>\n",
       "      <td>3922</td>\n",
       "      <td>[6091, 0234, 4574, 4132, 4132, 6673, 4574, 457...</td>\n",
       "      <td>[258.86, 4026.7, 8326.47, 5449.87, 6390.28, 61...</td>\n",
       "      <td>[2022-09-21 17:15:37, 2022-10-13 06:37:08, 202...</td>\n",
       "    </tr>\n",
       "    <tr>\n",
       "      <th>5</th>\n",
       "      <td>0234</td>\n",
       "      <td>[4132, 4132, 3922, 0841]</td>\n",
       "      <td>[1857.22, 9553.44, 9909.18, 3764.78]</td>\n",
       "      <td>[2022-09-25 22:06:11, 2022-10-15 12:48:08, 202...</td>\n",
       "    </tr>\n",
       "    <tr>\n",
       "      <th>6</th>\n",
       "      <td>6673</td>\n",
       "      <td>[0841, 9718, 7047]</td>\n",
       "      <td>[4543.94, 6982.21, 2181.31]</td>\n",
       "      <td>[2022-11-01 08:13:06, 2022-10-11 11:31:08, 202...</td>\n",
       "    </tr>\n",
       "    <tr>\n",
       "      <th>7</th>\n",
       "      <td>4574</td>\n",
       "      <td>[0841, 6673, 6673, 3922, 6673, 0841, 9718, 0841]</td>\n",
       "      <td>[3827.31, 1164.54, 771.54, 803.93, 7466.6, 688...</td>\n",
       "      <td>[2022-11-02 17:29:41, 2022-10-05 13:04:52, 202...</td>\n",
       "    </tr>\n",
       "    <tr>\n",
       "      <th>8</th>\n",
       "      <td>7047</td>\n",
       "      <td>[6673, 0841, 0234, 9718, 4132, 3922, 0841, 4574]</td>\n",
       "      <td>[5917.94, 1267.4, 5440.92, 7482.86, 7144.59, 2...</td>\n",
       "      <td>[2022-09-14 19:56:32, 2022-10-02 20:41:52, 202...</td>\n",
       "    </tr>\n",
       "    <tr>\n",
       "      <th>9</th>\n",
       "      <td>9223</td>\n",
       "      <td>[0234, 4132]</td>\n",
       "      <td>[6106.0, 4561.84]</td>\n",
       "      <td>[2022-09-21 00:37:22, 2022-10-08 18:54:07]</td>\n",
       "    </tr>\n",
       "  </tbody>\n",
       "</table>\n",
       "</div>"
      ],
      "text/plain": [
       "  sender_id                                        receiver_id  \\\n",
       "0      9718               [0234, 7047, 6673, 6091, 0841, 6673]   \n",
       "1      4132  [3922, 6673, 0841, 6673, 4574, 0234, 7047, 971...   \n",
       "2      0841   [4574, 6091, 4132, 4132, 7047, 7047, 3922, 3922]   \n",
       "3      6091   [0234, 3922, 9718, 9223, 0841, 0234, 0234, 4574]   \n",
       "4      3922  [6091, 0234, 4574, 4132, 4132, 6673, 4574, 457...   \n",
       "5      0234                           [4132, 4132, 3922, 0841]   \n",
       "6      6673                                 [0841, 9718, 7047]   \n",
       "7      4574   [0841, 6673, 6673, 3922, 6673, 0841, 9718, 0841]   \n",
       "8      7047   [6673, 0841, 0234, 9718, 4132, 3922, 0841, 4574]   \n",
       "9      9223                                       [0234, 4132]   \n",
       "\n",
       "                                              amount  \\\n",
       "0  [9506.3, 4161.95, 7939.8, 9866.85, 4344.94, 71...   \n",
       "1  [7833.45, 8556.83, 6274.4, 5714.17, 331.36, 57...   \n",
       "2  [6463.3, 8331.83, 1841.29, 1445.53, 5891.66, 8...   \n",
       "3  [8743.91, 1083.0, 1835.34, 4033.26, 3298.62, 4...   \n",
       "4  [258.86, 4026.7, 8326.47, 5449.87, 6390.28, 61...   \n",
       "5               [1857.22, 9553.44, 9909.18, 3764.78]   \n",
       "6                        [4543.94, 6982.21, 2181.31]   \n",
       "7  [3827.31, 1164.54, 771.54, 803.93, 7466.6, 688...   \n",
       "8  [5917.94, 1267.4, 5440.92, 7482.86, 7144.59, 2...   \n",
       "9                                  [6106.0, 4561.84]   \n",
       "\n",
       "                                           timestamp  \n",
       "0  [2022-10-08 21:24:00, 2022-10-20 06:36:58, 202...  \n",
       "1  [2022-09-16 21:54:08, 2022-10-17 15:20:33, 202...  \n",
       "2  [2022-10-01 01:33:21, 2022-10-22 04:49:53, 202...  \n",
       "3  [2022-09-16 12:43:52, 2022-10-22 18:52:35, 202...  \n",
       "4  [2022-09-21 17:15:37, 2022-10-13 06:37:08, 202...  \n",
       "5  [2022-09-25 22:06:11, 2022-10-15 12:48:08, 202...  \n",
       "6  [2022-11-01 08:13:06, 2022-10-11 11:31:08, 202...  \n",
       "7  [2022-11-02 17:29:41, 2022-10-05 13:04:52, 202...  \n",
       "8  [2022-09-14 19:56:32, 2022-10-02 20:41:52, 202...  \n",
       "9         [2022-09-21 00:37:22, 2022-10-08 18:54:07]  "
      ]
     },
     "execution_count": 5,
     "metadata": {},
     "output_type": "execute_result"
    }
   ],
   "source": [
    "#Ejecting fake/manipulated data do Dataframe\n",
    "\n",
    "fake_data['receiver_id']=manipulated_receiver_id\n",
    "fake_data['amount']=amount\n",
    "fake_data['timestamp']=timestamp\n",
    "print(len(fake_data['amount']))\n",
    "df=pd.DataFrame(fake_data)\n",
    "df=df[['sender_id','receiver_id','amount','timestamp']]\n",
    "df"
   ]
  },
  {
   "cell_type": "markdown",
   "metadata": {},
   "source": [
    "# Neo4j"
   ]
  },
  {
   "cell_type": "code",
   "execution_count": 6,
   "metadata": {},
   "outputs": [],
   "source": [
    "from neo4j import GraphDatabase"
   ]
  },
  {
   "cell_type": "code",
   "execution_count": 7,
   "metadata": {},
   "outputs": [],
   "source": [
    "transaction_info=df.values.tolist()"
   ]
  },
  {
   "cell_type": "code",
   "execution_count": 9,
   "metadata": {},
   "outputs": [
    {
     "name": "stderr",
     "output_type": "stream",
     "text": [
      "/tmp/ipykernel_10930/2877050615.py:24: DeprecationWarning: write_transaction has been renamed to execute_write\n",
      "  session.write_transaction(create_customer, str(transaction_info[i][0]))\n",
      "/tmp/ipykernel_10930/2877050615.py:31: DeprecationWarning: write_transaction has been renamed to execute_write\n",
      "  session.write_transaction(create_transaction,element[0],element[1][j],element[2][j],element[3][j])\n"
     ]
    }
   ],
   "source": [
    "uri = \"neo4j://localhost:7687\"\n",
    "driver = GraphDatabase.driver(uri, auth=(\"neo4j\", \"test\"))\n",
    "\n",
    "#Deleting existing values and relationships\n",
    "def clear_db(tx):\n",
    "    tx.run(\"MATCH(n) Detach Delete n\")\n",
    "#Creating customer node\n",
    "def create_customer(tx, customer_id):\n",
    "    tx.run(\"CREATE (c1:customer {name: $name, customer_id: $id})\",name='customer', id=customer_id)\n",
    "\n",
    "#Creating relationship between customer nodes\n",
    "def create_transaction(tx,customer_id,other_customer_id,amount,timestamp):\n",
    "    tx.run(\"MATCH (c1:customer),(c2:customer) \"\n",
    "    \"Where c1.customer_id= $id and c2.customer_id= $otherid \"\n",
    "    \"Create (c1)-[t:Transaction{amount: $amount, time: $timestamp}]->(c2)\",\n",
    "    id=customer_id,otherid=other_customer_id,amount=amount,timestamp=timestamp)\n",
    "\n",
    "\n",
    "with driver.session() as session:\n",
    "\n",
    "    session.execute_write(clear_db)\n",
    "\n",
    "    for i in range(len(transaction_info)):\n",
    "        session.write_transaction(create_customer, str(transaction_info[i][0]))\n",
    "\n",
    "    \n",
    "    for element in transaction_info:\n",
    "        for block in range(1,len(element)):\n",
    "            for j in range(len(element[block])):\n",
    "\n",
    "                session.write_transaction(create_transaction,element[0],element[1][j],element[2][j],element[3][j])\n",
    "\n",
    "driver.close()"
   ]
  }
 ],
 "metadata": {
  "kernelspec": {
   "display_name": "Python 3.10.6 ('env': venv)",
   "language": "python",
   "name": "python3"
  },
  "language_info": {
   "codemirror_mode": {
    "name": "ipython",
    "version": 3
   },
   "file_extension": ".py",
   "mimetype": "text/x-python",
   "name": "python",
   "nbconvert_exporter": "python",
   "pygments_lexer": "ipython3",
   "version": "3.10.6"
  },
  "orig_nbformat": 4,
  "vscode": {
   "interpreter": {
    "hash": "874a6de952d544f4cb877a8d13eabeae5b2291f673584fafdaac9408f5f0cba8"
   }
  }
 },
 "nbformat": 4,
 "nbformat_minor": 2
}

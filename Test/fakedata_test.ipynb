{
 "cells": [
  {
   "cell_type": "code",
   "execution_count": 1,
   "metadata": {},
   "outputs": [],
   "source": [
    "import pandas as pd\n",
    "import numpy as np\n",
    "from faker import Faker\n",
    "from collections import defaultdict\n",
    "from sqlalchemy import create_engine\n",
    "import datetime\n",
    "import random\n",
    "import re\n"
   ]
  },
  {
   "cell_type": "markdown",
   "metadata": {},
   "source": [
    "# Fake data creation"
   ]
  },
  {
   "cell_type": "code",
   "execution_count": 2,
   "metadata": {},
   "outputs": [],
   "source": [
    "from numpy import integer\n",
    "\n",
    "Faker.seed(50)\n",
    "fake=Faker()\n",
    "\n",
    "money_transaction = defaultdict(list)\n",
    "\n",
    "row_number=50\n",
    "\n"
   ]
  },
  {
   "cell_type": "code",
   "execution_count": 7,
   "metadata": {},
   "outputs": [],
   "source": [
    "# Creating initiated_account_id as much as the given input\n",
    "bank_info={\"BankAnk\":\"100\",\"BankIST\":\"200\",\"BankBUR\":\"300\"}\n",
    "\n",
    "for i in range(row_number):\n",
    "    money_transaction['initiated_account_id'].append(random.choice(list(bank_info.values()))+fake.bothify(text='####'))\n",
    "\n",
    "initiated_account_id=money_transaction[\"initiated_account_id\"]\n",
    "\n",
    "#Creating other futures\n",
    "initiated_account_balance_old=[]\n",
    "amount=[]\n",
    "initiated_account_balance_new=[]\n",
    "account_id=[]\n",
    "account_balance=[]\n",
    "timestamp=[]"
   ]
  },
  {
   "cell_type": "code",
   "execution_count": 8,
   "metadata": {},
   "outputs": [
    {
     "ename": "TypeError",
     "evalue": "int() argument must be a string, a bytes-like object or a real number, not 'list'",
     "output_type": "error",
     "traceback": [
      "\u001b[0;31m---------------------------------------------------------------------------\u001b[0m",
      "\u001b[0;31mTypeError\u001b[0m                                 Traceback (most recent call last)",
      "File \u001b[0;32m/usr/lib/python3.10/random.py:325\u001b[0m, in \u001b[0;36mRandom.randrange\u001b[0;34m(self, start, stop, step)\u001b[0m\n\u001b[1;32m    324\u001b[0m \u001b[39mtry\u001b[39;00m:\n\u001b[0;32m--> 325\u001b[0m     istop \u001b[39m=\u001b[39m _index(stop)\n\u001b[1;32m    326\u001b[0m \u001b[39mexcept\u001b[39;00m \u001b[39mTypeError\u001b[39;00m:\n",
      "\u001b[0;31mTypeError\u001b[0m: 'list' object cannot be interpreted as an integer",
      "\nDuring handling of the above exception, another exception occurred:\n",
      "\u001b[0;31mTypeError\u001b[0m                                 Traceback (most recent call last)",
      "Cell \u001b[0;32mIn [8], line 7\u001b[0m\n\u001b[1;32m      5\u001b[0m temp_initiated_account_balance_new\u001b[39m=\u001b[39m[]\n\u001b[1;32m      6\u001b[0m temp_account_id_list\u001b[39m=\u001b[39m[]\n\u001b[0;32m----> 7\u001b[0m temp_amount_list\u001b[39m=\u001b[39m[random\u001b[39m.\u001b[39;49mrandrange(\u001b[39m10\u001b[39;49m,temp_initiated_account_balance),]\n\u001b[1;32m      8\u001b[0m temp_timestamp_list\u001b[39m=\u001b[39m[]\n\u001b[1;32m     11\u001b[0m \u001b[39m#Creating random relationship on two nodes\u001b[39;00m\n",
      "File \u001b[0;32m/usr/lib/python3.10/random.py:327\u001b[0m, in \u001b[0;36mRandom.randrange\u001b[0;34m(self, start, stop, step)\u001b[0m\n\u001b[1;32m    325\u001b[0m     istop \u001b[39m=\u001b[39m _index(stop)\n\u001b[1;32m    326\u001b[0m \u001b[39mexcept\u001b[39;00m \u001b[39mTypeError\u001b[39;00m:\n\u001b[0;32m--> 327\u001b[0m     istop \u001b[39m=\u001b[39m \u001b[39mint\u001b[39;49m(stop)\n\u001b[1;32m    328\u001b[0m     \u001b[39mif\u001b[39;00m istop \u001b[39m!=\u001b[39m stop:\n\u001b[1;32m    329\u001b[0m         _warn(\u001b[39m'\u001b[39m\u001b[39mrandrange() will raise TypeError in the future\u001b[39m\u001b[39m'\u001b[39m,\n\u001b[1;32m    330\u001b[0m               \u001b[39mDeprecationWarning\u001b[39;00m, \u001b[39m2\u001b[39m)\n",
      "\u001b[0;31mTypeError\u001b[0m: int() argument must be a string, a bytes-like object or a real number, not 'list'"
     ]
    }
   ],
   "source": [
    "for idx in range(len(money_transaction['initiated_account_id'])): #For loop for creating random values in features\n",
    "\n",
    "    random_range=[random.randint(10,2000),random.randint(2000,4000),random.randint(4000,6000)]\n",
    "    temp_initiated_account_balance=[random_range]\n",
    "    temp_initiated_account_balance_new=[]\n",
    "    temp_account_id_list=[]\n",
    "    temp_amount_list=[random.randrange(10,temp_initiated_account_balance),]\n",
    "    temp_timestamp_list=[]\n",
    "    \n",
    "\n",
    "    #Creating random relationship on two nodes\n",
    "    for j in range(random.randint(1,15)): \n",
    "        \n",
    "        #Choosing random initiated_account_id and adding to reciever_id\n",
    "        rnd_account_id=''.join(random.choices(initiated_account_id)) \n",
    "        \n",
    "        #If sender and receiver feature value same break from the loop\n",
    "        if (initiated_account_id[idx]== rnd_account_id):\n",
    "            continue\n",
    "\n",
    "        if len(temp_initiated_account_balance)>= j:\n",
    "                break\n",
    "#---------------------------------------------------------------------\n",
    "        temp_amount_list.append(random.randrange(10,temp_initiated_account_balance[j]))\n",
    "        if temp_initiated_account_balance[j] - temp_amount_list[j] >= 0 :\n",
    "                temp_initiated_account_balance.append(temp_initiated_account_balance[j] - temp_amount_list[j])\n",
    "\n",
    "        #Creating the new balance after the transaction\n",
    "        #temp_initiated_account_balance_new.append(temp_initiated_account_balance[j]-temp_amount_list[j])\n",
    "#-------------------------------------------------------------------------\n",
    "        temp_account_id_list.append(rnd_account_id)\n",
    "        temp_timestamp_list.append(fake.date_time_ad(start_datetime=datetime.datetime(2022,9,14)))    \n",
    "    #Check the size of the receiver_id compare it with initiated_account_id\n",
    "    if len(account_id)==len(money_transaction['initiated_account_id']):\n",
    "            break\n",
    "    print(temp_amount_list)\n",
    "\n",
    "\n",
    "    #Appending every feature value to list\n",
    "    account_id.append(temp_account_id_list)\n",
    "    amount.append(temp_amount_list)\n",
    "    initiated_account_balance_old.append(temp_initiated_account_balance)\n",
    "    initiated_account_balance_new.append(temp_initiated_account_balance_new)\n",
    "    timestamp.append(temp_timestamp_list)\n",
    "        "
   ]
  },
  {
   "cell_type": "code",
   "execution_count": null,
   "metadata": {},
   "outputs": [],
   "source": [
    "#Ejecting fake/manipulated data do Dataframe\n",
    "money_transaction['initiated_account_balance(old)']=initiated_account_balance_old\n",
    "money_transaction['amount']=amount\n",
    "money_transaction['initiated_account_balance(new)']=initiated_account_balance_new\n",
    "money_transaction['account_id']=account_id\n",
    "money_transaction['timestamp']=timestamp\n",
    "print(len(money_transaction['amount']))\n",
    "df=pd.DataFrame(money_transaction)\n",
    "df"
   ]
  },
  {
   "cell_type": "markdown",
   "metadata": {},
   "source": [
    "# Neo4j"
   ]
  },
  {
   "cell_type": "code",
   "execution_count": null,
   "metadata": {},
   "outputs": [],
   "source": [
    "from neo4j import GraphDatabase"
   ]
  },
  {
   "cell_type": "code",
   "execution_count": null,
   "metadata": {},
   "outputs": [],
   "source": [
    "transaction_info=df.values.tolist()"
   ]
  },
  {
   "cell_type": "code",
   "execution_count": null,
   "metadata": {},
   "outputs": [],
   "source": [
    "uri = \"neo4j://localhost:7687\"\n",
    "driver = GraphDatabase.driver(uri, auth=(\"neo4j\", \"test\"))\n",
    "\n",
    "#Deleting existing values and relationships\n",
    "def clear_db(tx):\n",
    "    tx.run(\"MATCH(n) Detach Delete n\")\n",
    "#Creating customer node\n",
    "def create_customer(tx, customer_id):\n",
    "    tx.run(\"CREATE (c1:customer {name: $name, customer_id: $id})\",name='customer', id=customer_id)\n",
    "\n",
    "#Creating relationship between customer nodes\n",
    "def create_transaction(tx,customer_id,other_customer_id,amount,timestamp):\n",
    "    tx.run(\"MATCH (c1:customer),(c2:customer) \"\n",
    "    \"Where c1.customer_id= $id and c2.customer_id= $otherid \"\n",
    "    \"Create (c1)-[t:Transaction{amount: $amount, time: $timestamp}]->(c2)\",\n",
    "    id=customer_id,otherid=other_customer_id,amount=amount,timestamp=timestamp)\n",
    "\n",
    "\n",
    "with driver.session() as session:\n",
    "\n",
    "    session.execute_write(clear_db)\n",
    "\n",
    "    for i in range(len(transaction_info)):\n",
    "        session.write_transaction(create_customer, str(transaction_info[i][0]))\n",
    "\n",
    "    deneme=[]    \n",
    "    for element in transaction_info:\n",
    "        for block in range(1,len(element)):\n",
    "            for j in range(len(element[block])):\n",
    "                session.write_transaction(create_transaction,element[0],element[1][j],element[2][j],element[3][j])\n",
    "            if element[1][j]==len(element[block]):\n",
    "                    break\n",
    "        print(j)\n",
    "\n",
    "\n",
    "driver.close()"
   ]
  }
 ],
 "metadata": {
  "kernelspec": {
   "display_name": "Python 3.10.6 ('env': venv)",
   "language": "python",
   "name": "python3"
  },
  "language_info": {
   "codemirror_mode": {
    "name": "ipython",
    "version": 3
   },
   "file_extension": ".py",
   "mimetype": "text/x-python",
   "name": "python",
   "nbconvert_exporter": "python",
   "pygments_lexer": "ipython3",
   "version": "3.10.6"
  },
  "orig_nbformat": 4,
  "vscode": {
   "interpreter": {
    "hash": "874a6de952d544f4cb877a8d13eabeae5b2291f673584fafdaac9408f5f0cba8"
   }
  }
 },
 "nbformat": 4,
 "nbformat_minor": 2
}

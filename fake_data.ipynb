{
 "cells": [
  {
   "cell_type": "code",
   "execution_count": 1,
   "metadata": {},
   "outputs": [],
   "source": [
    "import pandas as pd\n",
    "import numpy as np\n",
    "from faker import Faker\n",
    "from collections import defaultdict\n",
    "from sqlalchemy import create_engine\n",
    "import datetime\n",
    "import random\n",
    "import re\n"
   ]
  },
  {
   "cell_type": "code",
   "execution_count": 2,
   "metadata": {},
   "outputs": [],
   "source": [
    "from numpy import integer\n",
    "\n",
    "\n",
    "fake=Faker()\n",
    "\n",
    "fake_data = defaultdict(list)\n",
    "\n",
    "row_number=int(input(\"Please write the number you wish to see the row size, DON'T CRASH ME!\"))\n",
    "\n"
   ]
  },
  {
   "cell_type": "markdown",
   "metadata": {},
   "source": [
    "#Functions"
   ]
  },
  {
   "cell_type": "markdown",
   "metadata": {},
   "source": [
    "#Fake data is generated."
   ]
  },
  {
   "cell_type": "code",
   "execution_count": 3,
   "metadata": {},
   "outputs": [],
   "source": [
    "\n",
    "for i in range(row_number):\n",
    "    fake_data['from_customer'].append(fake.bothify(text='FRM-1#####'))\n",
    "    fake_data['amount'].append(fake.pyfloat(right_digits=2,positive=True,min_value=2.00,max_value=10000.00))\n",
    "    fake_data['timestamp'].append(fake.date_time_ad(start_datetime=datetime.datetime(2022,9,14)))\n",
    "    "
   ]
  },
  {
   "cell_type": "code",
   "execution_count": 4,
   "metadata": {},
   "outputs": [],
   "source": [
    "#To_customer feauture\n",
    "templist=[]\n",
    "#check the key value from list_converted defaultdict\n",
    "for k,v in list(fake_data.items()):\n",
    "    if k=='from_customer':\n",
    "        #Change FRM tag to TO tag\n",
    "        for item in v:\n",
    "                splited_item=item.split('-')\n",
    "                splited_item[0]='TO'\n",
    "                concat_item='-'.join(splited_item)\n",
    "                templist.append(concat_item)#item\n",
    "#To_customer yapısında yer değişikliği random\n",
    "random.shuffle(templist)\n",
    "fake_data['to_customer']=templist"
   ]
  },
  {
   "cell_type": "code",
   "execution_count": 5,
   "metadata": {},
   "outputs": [],
   "source": [
    "df=pd.DataFrame(fake_data)\n",
    "df=df[['from_customer','to_customer','amount','timestamp']]\n",
    "#dropped_df=df.drop(['amount','timestamp'], axis=1)"
   ]
  },
  {
   "cell_type": "code",
   "execution_count": 6,
   "metadata": {},
   "outputs": [],
   "source": [
    "try:\n",
    "    equal=any(df['from_customer'].str.extract('(\\d+)')==df['to_customer'].str.extract('(\\d+)'))\n",
    "except:\n",
    "    print(\"Same value error, please check your rows that may be have a same value\")"
   ]
  },
  {
   "cell_type": "code",
   "execution_count": 7,
   "metadata": {},
   "outputs": [
    {
     "data": {
      "text/html": [
       "<div>\n",
       "<style scoped>\n",
       "    .dataframe tbody tr th:only-of-type {\n",
       "        vertical-align: middle;\n",
       "    }\n",
       "\n",
       "    .dataframe tbody tr th {\n",
       "        vertical-align: top;\n",
       "    }\n",
       "\n",
       "    .dataframe thead th {\n",
       "        text-align: right;\n",
       "    }\n",
       "</style>\n",
       "<table border=\"1\" class=\"dataframe\">\n",
       "  <thead>\n",
       "    <tr style=\"text-align: right;\">\n",
       "      <th></th>\n",
       "      <th>from_customer</th>\n",
       "      <th>to_customer</th>\n",
       "      <th>amount</th>\n",
       "      <th>timestamp</th>\n",
       "    </tr>\n",
       "  </thead>\n",
       "  <tbody>\n",
       "    <tr>\n",
       "      <th>0</th>\n",
       "      <td>FRM-174530</td>\n",
       "      <td>TO-166062</td>\n",
       "      <td>8439.79</td>\n",
       "      <td>2022-09-25 18:42:39</td>\n",
       "    </tr>\n",
       "    <tr>\n",
       "      <th>1</th>\n",
       "      <td>FRM-171122</td>\n",
       "      <td>TO-132008</td>\n",
       "      <td>8398.99</td>\n",
       "      <td>2022-09-18 14:13:52</td>\n",
       "    </tr>\n",
       "    <tr>\n",
       "      <th>2</th>\n",
       "      <td>FRM-139838</td>\n",
       "      <td>TO-130723</td>\n",
       "      <td>2385.14</td>\n",
       "      <td>2022-10-18 08:26:55</td>\n",
       "    </tr>\n",
       "    <tr>\n",
       "      <th>3</th>\n",
       "      <td>FRM-130468</td>\n",
       "      <td>TO-101976</td>\n",
       "      <td>1228.61</td>\n",
       "      <td>2022-10-12 04:38:25</td>\n",
       "    </tr>\n",
       "    <tr>\n",
       "      <th>4</th>\n",
       "      <td>FRM-189541</td>\n",
       "      <td>TO-112698</td>\n",
       "      <td>6531.12</td>\n",
       "      <td>2022-09-25 21:38:50</td>\n",
       "    </tr>\n",
       "  </tbody>\n",
       "</table>\n",
       "</div>"
      ],
      "text/plain": [
       "  from_customer to_customer   amount           timestamp\n",
       "0    FRM-174530   TO-166062  8439.79 2022-09-25 18:42:39\n",
       "1    FRM-171122   TO-132008  8398.99 2022-09-18 14:13:52\n",
       "2    FRM-139838   TO-130723  2385.14 2022-10-18 08:26:55\n",
       "3    FRM-130468   TO-101976  1228.61 2022-10-12 04:38:25\n",
       "4    FRM-189541   TO-112698  6531.12 2022-09-25 21:38:50"
      ]
     },
     "execution_count": 7,
     "metadata": {},
     "output_type": "execute_result"
    }
   ],
   "source": [
    "#type(df_manipulation['from_customer'].str.extract('(\\d+)')==df_manipulation['to_customer'].str.extract('(\\d+)'))\n",
    "#GET INDEX NUMBER:\n",
    "    #df_manipulation[df['from_customer']=='FRM-757739'].index.item() \n",
    "#Seperate the numbers:\n",
    "    #df_manipulation['from_customer'].str.extract('(\\d+)'))\n",
    "    #df_manipulation['to_customer'].str.extract('(\\d+)'))\n",
    "df.head()"
   ]
  },
  {
   "cell_type": "code",
   "execution_count": 8,
   "metadata": {},
   "outputs": [],
   "source": [
    "#from_or_to={'from_customer':'from_customer',\n",
    "                    #'to_customer':'to_customer'}\n",
    "#for i in range(len(from_or_to)):\n",
    "            #list(from_or_to.keys())[i]=df[list(from_or_to.keys())[i]].to_list()\n",
    "            "
   ]
  },
  {
   "cell_type": "code",
   "execution_count": 9,
   "metadata": {},
   "outputs": [],
   "source": [
    "def pick_random_elements(dataFrame):\n",
    "        from_or_to=['from_customer','to_customer']\n",
    "        for i in range(len(dataFrame)):\n",
    "                randomized_customer=dataFrame.loc[:,random.choice(from_or_to)].iat[random.randint(5,len(dataFrame)-1)]\n",
    "                tweaked_customer_list.append(randomized_customer)\n",
    "                #If list is not unique start from beginning\n",
    "                \n",
    "                if not np.unique(tweaked_customer_list).size == len(tweaked_customer_list):\n",
    "                        tweaked_customer_list.clear()\n",
    "        if not tweaked_customer_list:\n",
    "            pick_random_elements(dataFrame)\n",
    "\n",
    "\n",
    "            \n",
    "def splitString(str):\n",
    "    alpha = \"\"\n",
    "    num = \"\"\n",
    "    special = \"\"\n",
    "    for i in range(len(str)):\n",
    "        if (str[i].isdigit()):\n",
    "            num = num+ str[i]\n",
    "        elif((str[i] >= 'A' and str[i] <= 'Z') or\n",
    "             (str[i] >= 'a' and str[i] <= 'z')):\n",
    "            alpha += str[i]\n",
    "        else:\n",
    "            special += str[i]\n",
    " \n",
    "    return(num)\n",
    "\n",
    "\n",
    "def sum_of_numbers(number):\n",
    "    if number>9:\n",
    "        ones=number%10\n",
    "        tens=(number-ones)/10\n",
    "        number=ones+tens\n",
    "    return int(number)\n",
    "\n",
    "def split_elements(customer_list):\n",
    "    for customer in customer_list:\n",
    "        if len(customer.split('-')[0])<=2:\n",
    "            receiver_list.append(customer)\n",
    "        else:\n",
    "            giver_list.append(customer)\n",
    "\n",
    "receiver_list=[]\n",
    "giver_list=[]\n",
    "tweaked_customer_list=[]"
   ]
  },
  {
   "cell_type": "code",
   "execution_count": 10,
   "metadata": {},
   "outputs": [
    {
     "name": "stdout",
     "output_type": "stream",
     "text": [
      "['FRM-174681', 'FRM-151419', 'TO-125808', 'TO-133366']\n"
     ]
    },
    {
     "data": {
      "text/html": [
       "<div>\n",
       "<style scoped>\n",
       "    .dataframe tbody tr th:only-of-type {\n",
       "        vertical-align: middle;\n",
       "    }\n",
       "\n",
       "    .dataframe tbody tr th {\n",
       "        vertical-align: top;\n",
       "    }\n",
       "\n",
       "    .dataframe thead th {\n",
       "        text-align: right;\n",
       "    }\n",
       "</style>\n",
       "<table border=\"1\" class=\"dataframe\">\n",
       "  <thead>\n",
       "    <tr style=\"text-align: right;\">\n",
       "      <th></th>\n",
       "      <th>from_customer</th>\n",
       "      <th>to_customer</th>\n",
       "      <th>amount</th>\n",
       "      <th>timestamp</th>\n",
       "    </tr>\n",
       "  </thead>\n",
       "  <tbody>\n",
       "    <tr>\n",
       "      <th>0</th>\n",
       "      <td>FRM-174530</td>\n",
       "      <td>TO-166062</td>\n",
       "      <td>8439.79</td>\n",
       "      <td>2022-09-25 18:42:39</td>\n",
       "    </tr>\n",
       "    <tr>\n",
       "      <th>1</th>\n",
       "      <td>FRM-171122</td>\n",
       "      <td>TO-132008</td>\n",
       "      <td>8398.99</td>\n",
       "      <td>2022-09-18 14:13:52</td>\n",
       "    </tr>\n",
       "    <tr>\n",
       "      <th>2</th>\n",
       "      <td>FRM-139838</td>\n",
       "      <td>TO-130723</td>\n",
       "      <td>2385.14</td>\n",
       "      <td>2022-10-18 08:26:55</td>\n",
       "    </tr>\n",
       "    <tr>\n",
       "      <th>3</th>\n",
       "      <td>FRM-130468</td>\n",
       "      <td>TO-101976</td>\n",
       "      <td>1228.61</td>\n",
       "      <td>2022-10-12 04:38:25</td>\n",
       "    </tr>\n",
       "    <tr>\n",
       "      <th>4</th>\n",
       "      <td>FRM-189541</td>\n",
       "      <td>TO-112698</td>\n",
       "      <td>6531.12</td>\n",
       "      <td>2022-09-25 21:38:50</td>\n",
       "    </tr>\n",
       "  </tbody>\n",
       "</table>\n",
       "</div>"
      ],
      "text/plain": [
       "  from_customer to_customer   amount           timestamp\n",
       "0    FRM-174530   TO-166062  8439.79 2022-09-25 18:42:39\n",
       "1    FRM-171122   TO-132008  8398.99 2022-09-18 14:13:52\n",
       "2    FRM-139838   TO-130723  2385.14 2022-10-18 08:26:55\n",
       "3    FRM-130468   TO-101976  1228.61 2022-10-12 04:38:25\n",
       "4    FRM-189541   TO-112698  6531.12 2022-09-25 21:38:50"
      ]
     },
     "execution_count": 10,
     "metadata": {},
     "output_type": "execute_result"
    }
   ],
   "source": [
    "pick_random_elements(df)\n",
    "print(tweaked_customer_list)\n",
    "split_elements(tweaked_customer_list)\n",
    "df.head()"
   ]
  },
  {
   "cell_type": "code",
   "execution_count": 11,
   "metadata": {},
   "outputs": [
    {
     "data": {
      "text/plain": [
       "['FRM-174681',\n",
       " 'FRM-151419',\n",
       " 'FRM-151419',\n",
       " 'FRM-151419',\n",
       " 'FRM-151419',\n",
       " 'FRM-151419',\n",
       " 'FRM-151419',\n",
       " 'FRM-151419']"
      ]
     },
     "execution_count": 11,
     "metadata": {},
     "output_type": "execute_result"
    }
   ],
   "source": [
    "df.copy=df\n",
    "df.copy.head()\n",
    "for i in range(len(giver_list)*3):\n",
    "    giver_list.append(giver_list[random.randint(0,len(giver_list))-1])\n",
    "giver_list"
   ]
  },
  {
   "cell_type": "code",
   "execution_count": 12,
   "metadata": {},
   "outputs": [],
   "source": [
    "#Replace random elements in from_customer\n",
    "def random_relationship(getlist):\n",
    "    i=1\n",
    "    for element in getlist:\n",
    "            df.copy['from_customer'] = df['from_customer'].replace([df.loc[i+1, 'from_customer'],element])\n",
    "            i+=1\n",
    "            #random.randint(i,len(df))"
   ]
  },
  {
   "cell_type": "code",
   "execution_count": 13,
   "metadata": {},
   "outputs": [
    {
     "data": {
      "text/plain": [
       "['FRM-174681',\n",
       " 'FRM-151419',\n",
       " 'FRM-151419',\n",
       " 'FRM-151419',\n",
       " 'FRM-151419',\n",
       " 'FRM-151419',\n",
       " 'FRM-151419',\n",
       " 'FRM-151419']"
      ]
     },
     "execution_count": 13,
     "metadata": {},
     "output_type": "execute_result"
    }
   ],
   "source": [
    "random_relationship(giver_list)\n",
    "giver_list"
   ]
  },
  {
   "cell_type": "code",
   "execution_count": 14,
   "metadata": {},
   "outputs": [
    {
     "name": "stdout",
     "output_type": "stream",
     "text": [
      "from_customer\n",
      "105512    1\n",
      "106909    1\n",
      "109173    1\n",
      "112698    2\n",
      "112908    1\n",
      "114358    1\n",
      "119869    1\n",
      "120589    1\n",
      "124091    1\n",
      "125173    1\n",
      "125808    1\n",
      "130723    2\n",
      "132008    1\n",
      "133366    1\n",
      "138403    1\n",
      "148687    1\n",
      "149755    1\n",
      "152322    1\n",
      "154742    1\n",
      "154985    1\n",
      "157635    1\n",
      "161046    1\n",
      "162132    1\n",
      "163509    1\n",
      "166062    1\n",
      "166690    1\n",
      "166987    1\n",
      "170694    1\n",
      "171122    9\n",
      "173724    1\n",
      "174530    1\n",
      "177352    1\n",
      "178436    1\n",
      "179047    1\n",
      "180331    1\n",
      "181304    1\n",
      "185609    1\n",
      "187503    1\n",
      "192478    1\n",
      "198917    1\n",
      "dtype: int64\n"
     ]
    }
   ],
   "source": [
    "#Get the duplicateds\n",
    "df.copy['from_customer']=df.copy['from_customer'].str.extract('(\\d+)')\n",
    "df.copy['to_customer']=df.copy['to_customer'].str.extract('(\\d+)')\n",
    "dups_all = df.copy.pivot_table(columns=['from_customer'], aggfunc='size')\n",
    "dups=[]\n",
    "a=0\n",
    "for i in dups_all.values:\n",
    "    if i>1:\n",
    "        dups.append(dups_all.index[a])\n",
    "    a+=1\n",
    "print(dups_all)\n"
   ]
  },
  {
   "cell_type": "code",
   "execution_count": 15,
   "metadata": {},
   "outputs": [],
   "source": [
    "df_dups=df[df.copy.from_customer.isin(dups)==True]\n",
    "df_final=df[df.copy.from_customer.isin(dups)==False]"
   ]
  },
  {
   "cell_type": "code",
   "execution_count": 16,
   "metadata": {},
   "outputs": [
    {
     "name": "stdout",
     "output_type": "stream",
     "text": [
      "   from_customer to_customer   amount           timestamp\n",
      "1         171122      132008  8398.99 2022-09-18 14:13:52\n",
      "2         171122      130723  2385.14 2022-10-18 08:26:55\n",
      "3         171122      101976  1228.61 2022-10-12 04:38:25\n",
      "4         171122      112698  6531.12 2022-09-25 21:38:50\n",
      "5         171122      199698  7176.22 2022-09-29 00:11:10\n",
      "6         171122      174530  8361.62 2022-10-13 21:07:11\n",
      "7         171122      148687    41.87 2022-10-13 12:13:45\n",
      "8         171122      157635  3565.53 2022-09-29 04:57:58\n",
      "9         171122      154985  1679.31 2022-09-20 14:52:09\n",
      "39        112698      109173  5394.95 2022-10-14 22:22:47\n",
      "40        112698      125173  1267.89 2022-09-22 13:16:01\n",
      "43        130723      185609  1379.00 2022-09-28 13:02:03\n",
      "44        130723      114358  2888.12 2022-10-14 00:02:53\n"
     ]
    }
   ],
   "source": [
    "print(df_dups)"
   ]
  },
  {
   "cell_type": "markdown",
   "metadata": {},
   "source": [
    "#Neo4j"
   ]
  },
  {
   "cell_type": "code",
   "execution_count": 17,
   "metadata": {},
   "outputs": [],
   "source": [
    "from neo4j import GraphDatabase"
   ]
  },
  {
   "cell_type": "code",
   "execution_count": 18,
   "metadata": {},
   "outputs": [
    {
     "name": "stdout",
     "output_type": "stream",
     "text": [
      "['112698', '130723', '171122']\n"
     ]
    }
   ],
   "source": [
    "transaction_info=df.values.tolist()\n",
    "print(dups)"
   ]
  },
  {
   "cell_type": "code",
   "execution_count": 19,
   "metadata": {},
   "outputs": [
    {
     "name": "stderr",
     "output_type": "stream",
     "text": [
      "/tmp/ipykernel_72886/3017973299.py:19: DeprecationWarning: write_transaction has been renamed to execute_write\n",
      "  session.write_transaction(create_customer, str(i))\n",
      "/tmp/ipykernel_72886/3017973299.py:25: DeprecationWarning: write_transaction has been renamed to execute_write\n",
      "  session.write_transaction(create_customer, str(i[0]))\n",
      "/tmp/ipykernel_72886/3017973299.py:27: DeprecationWarning: write_transaction has been renamed to execute_write\n",
      "  session.write_transaction(create_transaction, str(i[0]), str(i[1]),str(i[2]),str(i[3]))\n",
      "/tmp/ipykernel_72886/3017973299.py:23: DeprecationWarning: write_transaction has been renamed to execute_write\n",
      "  session.write_transaction(create_transaction, str(i[0]), str(i[1]),str(i[2]),str(i[3]))\n"
     ]
    }
   ],
   "source": [
    "uri = \"neo4j://localhost:7687\"\n",
    "driver = GraphDatabase.driver(uri, auth=(\"neo4j\", \"test\"))\n",
    "\n",
    "def create_customer(tx, from_customer):\n",
    "    tx.run(\"CREATE (c1:Customer {name: $name, customer_id: $id})\",name='customer', id=from_customer)\n",
    "\n",
    "#def create_customer2(tx, to_customer):\n",
    " #   tx.run(\"CREATE (c2:Customer2 {name: $name, customer_id: $id})\",name='customer2', id=to_customer)\n",
    "\n",
    "def create_transaction(tx, from_customer, to_customer,amount,timestamp):\n",
    "    tx.run(\"MATCH (c1:Customer) WHERE c1.customer_id = $id \"\n",
    "           \"CREATE (c1)-[:Transaction{amount:$amount,time:$timestamp}]->(c2:Customer {customer_id: $otherid})\",\n",
    "           id=from_customer, otherid=to_customer,amount=amount,timestamp=timestamp)\n",
    "\n",
    "with driver.session() as session:\n",
    "\n",
    "    #Create all nodes Customer 1 and Customer 2 create relationship where there is only one relationship\n",
    "    for i in dups:\n",
    "            session.write_transaction(create_customer, str(i))\n",
    "    for i in transaction_info:\n",
    "        if str(i[0]) in dups:\n",
    "            #session.write_transaction(create_customer2, str(i[1]))\n",
    "            session.write_transaction(create_transaction, str(i[0]), str(i[1]),str(i[2]),str(i[3]))\n",
    "            continue\n",
    "        session.write_transaction(create_customer, str(i[0]))\n",
    "        #session.write_transaction(create_customer2, str(i[1]))\n",
    "        session.write_transaction(create_transaction, str(i[0]), str(i[1]),str(i[2]),str(i[3]))\n",
    "    \n",
    "    \n",
    "\n",
    "    \n",
    "            \n",
    "        #session.write_transaction(create_transaction, str(i[0]), str(i[1]))\n",
    "        #session.write_transaction(create_transaction, str(i[0]), \"Carl\")\n",
    "\n",
    "driver.close()"
   ]
  }
 ],
 "metadata": {
  "kernelspec": {
   "display_name": "Python 3.10.6 ('env': venv)",
   "language": "python",
   "name": "python3"
  },
  "language_info": {
   "codemirror_mode": {
    "name": "ipython",
    "version": 3
   },
   "file_extension": ".py",
   "mimetype": "text/x-python",
   "name": "python",
   "nbconvert_exporter": "python",
   "pygments_lexer": "ipython3",
   "version": "3.10.6"
  },
  "orig_nbformat": 4,
  "vscode": {
   "interpreter": {
    "hash": "874a6de952d544f4cb877a8d13eabeae5b2291f673584fafdaac9408f5f0cba8"
   }
  }
 },
 "nbformat": 4,
 "nbformat_minor": 2
}

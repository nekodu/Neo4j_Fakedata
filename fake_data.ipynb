{
 "cells": [
  {
   "cell_type": "code",
   "execution_count": 1,
   "metadata": {},
   "outputs": [],
   "source": [
    "import pandas as pd\n",
    "import numpy as np\n",
    "from faker import Faker\n",
    "from collections import defaultdict\n",
    "from sqlalchemy import create_engine\n",
    "import datetime\n",
    "import random\n",
    "import re\n"
   ]
  },
  {
   "cell_type": "code",
   "execution_count": 2,
   "metadata": {},
   "outputs": [],
   "source": [
    "from numpy import integer\n",
    "\n",
    "\n",
    "fake=Faker()\n",
    "\n",
    "fake_data = defaultdict(list)\n",
    "\n",
    "row_number=int(input(\"Please write the number you wish to see the row size, DON'T CRASH ME!\"))\n",
    "\n"
   ]
  },
  {
   "cell_type": "markdown",
   "metadata": {},
   "source": [
    "#Functions"
   ]
  },
  {
   "cell_type": "markdown",
   "metadata": {},
   "source": [
    "#Fake data is generated."
   ]
  },
  {
   "cell_type": "code",
   "execution_count": 3,
   "metadata": {},
   "outputs": [],
   "source": [
    "\n",
    "for i in range(row_number):\n",
    "    fake_data['from_customer'].append(fake.bothify(text='FRM-1#####'))\n",
    "    fake_data['amount'].append(fake.pyfloat(right_digits=2,positive=True,min_value=2.00,max_value=10000.00))\n",
    "    fake_data['timestamp'].append(fake.date_time_ad(start_datetime=datetime.datetime(2022,9,14)))\n",
    "    "
   ]
  },
  {
   "cell_type": "code",
   "execution_count": 4,
   "metadata": {},
   "outputs": [],
   "source": [
    "#To_customer feauture\n",
    "templist=[]\n",
    "#check the key value from list_converted defaultdict\n",
    "for k,v in list(fake_data.items()):\n",
    "    if k=='from_customer':\n",
    "        #Change FRM tag to TO tag\n",
    "        for item in v:\n",
    "                splited_item=item.split('-')\n",
    "                splited_item[0]='TO'\n",
    "                concat_item='-'.join(splited_item)\n",
    "                templist.append(concat_item)#item\n",
    "#To_customer yapısında yer değişikliği random\n",
    "random.shuffle(templist)\n",
    "fake_data['to_customer']=templist"
   ]
  },
  {
   "cell_type": "code",
   "execution_count": 5,
   "metadata": {},
   "outputs": [],
   "source": [
    "df=pd.DataFrame(fake_data)\n",
    "df=df[['from_customer','to_customer','amount','timestamp']]\n",
    "#dropped_df=df.drop(['amount','timestamp'], axis=1)"
   ]
  },
  {
   "cell_type": "code",
   "execution_count": 6,
   "metadata": {},
   "outputs": [],
   "source": [
    "try:\n",
    "    equal=any(df['from_customer'].str.extract('(\\d+)')==df['to_customer'].str.extract('(\\d+)'))\n",
    "except:\n",
    "    print(\"Same value error, please check your rows that may be have a same value\")"
   ]
  },
  {
   "cell_type": "code",
   "execution_count": 7,
   "metadata": {},
   "outputs": [
    {
     "data": {
      "text/html": [
       "<div>\n",
       "<style scoped>\n",
       "    .dataframe tbody tr th:only-of-type {\n",
       "        vertical-align: middle;\n",
       "    }\n",
       "\n",
       "    .dataframe tbody tr th {\n",
       "        vertical-align: top;\n",
       "    }\n",
       "\n",
       "    .dataframe thead th {\n",
       "        text-align: right;\n",
       "    }\n",
       "</style>\n",
       "<table border=\"1\" class=\"dataframe\">\n",
       "  <thead>\n",
       "    <tr style=\"text-align: right;\">\n",
       "      <th></th>\n",
       "      <th>from_customer</th>\n",
       "      <th>to_customer</th>\n",
       "      <th>amount</th>\n",
       "      <th>timestamp</th>\n",
       "    </tr>\n",
       "  </thead>\n",
       "  <tbody>\n",
       "    <tr>\n",
       "      <th>0</th>\n",
       "      <td>FRM-174530</td>\n",
       "      <td>TO-166062</td>\n",
       "      <td>8439.79</td>\n",
       "      <td>2022-09-25 18:42:39</td>\n",
       "    </tr>\n",
       "    <tr>\n",
       "      <th>1</th>\n",
       "      <td>FRM-171122</td>\n",
       "      <td>TO-132008</td>\n",
       "      <td>8398.99</td>\n",
       "      <td>2022-09-18 14:13:52</td>\n",
       "    </tr>\n",
       "    <tr>\n",
       "      <th>2</th>\n",
       "      <td>FRM-139838</td>\n",
       "      <td>TO-130723</td>\n",
       "      <td>2385.14</td>\n",
       "      <td>2022-10-18 08:26:55</td>\n",
       "    </tr>\n",
       "    <tr>\n",
       "      <th>3</th>\n",
       "      <td>FRM-130468</td>\n",
       "      <td>TO-101976</td>\n",
       "      <td>1228.61</td>\n",
       "      <td>2022-10-12 04:38:25</td>\n",
       "    </tr>\n",
       "    <tr>\n",
       "      <th>4</th>\n",
       "      <td>FRM-189541</td>\n",
       "      <td>TO-112698</td>\n",
       "      <td>6531.12</td>\n",
       "      <td>2022-09-25 21:38:50</td>\n",
       "    </tr>\n",
       "  </tbody>\n",
       "</table>\n",
       "</div>"
      ],
      "text/plain": [
       "  from_customer to_customer   amount           timestamp\n",
       "0    FRM-174530   TO-166062  8439.79 2022-09-25 18:42:39\n",
       "1    FRM-171122   TO-132008  8398.99 2022-09-18 14:13:52\n",
       "2    FRM-139838   TO-130723  2385.14 2022-10-18 08:26:55\n",
       "3    FRM-130468   TO-101976  1228.61 2022-10-12 04:38:25\n",
       "4    FRM-189541   TO-112698  6531.12 2022-09-25 21:38:50"
      ]
     },
     "execution_count": 7,
     "metadata": {},
     "output_type": "execute_result"
    }
   ],
   "source": [
    "#type(df_manipulation['from_customer'].str.extract('(\\d+)')==df_manipulation['to_customer'].str.extract('(\\d+)'))\n",
    "#GET INDEX NUMBER:\n",
    "    #df_manipulation[df['from_customer']=='FRM-757739'].index.item() \n",
    "#Seperate the numbers:\n",
    "    #df_manipulation['from_customer'].str.extract('(\\d+)'))\n",
    "    #df_manipulation['to_customer'].str.extract('(\\d+)'))\n",
    "df.head()"
   ]
  },
  {
   "cell_type": "code",
   "execution_count": 8,
   "metadata": {},
   "outputs": [],
   "source": [
    "#from_or_to={'from_customer':'from_customer',\n",
    "                    #'to_customer':'to_customer'}\n",
    "#for i in range(len(from_or_to)):\n",
    "            #list(from_or_to.keys())[i]=df[list(from_or_to.keys())[i]].to_list()\n",
    "            "
   ]
  },
  {
   "cell_type": "code",
   "execution_count": 9,
   "metadata": {},
   "outputs": [],
   "source": [
    "from_customer=list(df[\"from_customer\"])#from_customer adlı sütünü listeye çevrildi.\n",
    "\n",
    "to_customer=list(df[\"to_customer\"])#to_customer adlı sütünü listeye çevrildi.\n",
    "\n",
    "new_from_customer=[] # yeni data frame '  e  eklemek içni yeni from_custormer listesi \n",
    "new_to_customer=[]# yeni data frame '  e  eklemek içni yeni to_ custormer listesi "
   ]
  },
  {
   "cell_type": "code",
   "execution_count": 10,
   "metadata": {},
   "outputs": [
    {
     "name": "stdout",
     "output_type": "stream",
     "text": [
      "['FRM-174681', 'FRM-151419', 'TO-125808', 'TO-133366']\n"
     ]
    },
    {
     "data": {
      "text/html": [
       "<div>\n",
       "<style scoped>\n",
       "    .dataframe tbody tr th:only-of-type {\n",
       "        vertical-align: middle;\n",
       "    }\n",
       "\n",
       "    .dataframe tbody tr th {\n",
       "        vertical-align: top;\n",
       "    }\n",
       "\n",
       "    .dataframe thead th {\n",
       "        text-align: right;\n",
       "    }\n",
       "</style>\n",
       "<table border=\"1\" class=\"dataframe\">\n",
       "  <thead>\n",
       "    <tr style=\"text-align: right;\">\n",
       "      <th></th>\n",
       "      <th>from_customer</th>\n",
       "      <th>to_customer</th>\n",
       "      <th>amount</th>\n",
       "      <th>timestamp</th>\n",
       "    </tr>\n",
       "  </thead>\n",
       "  <tbody>\n",
       "    <tr>\n",
       "      <th>0</th>\n",
       "      <td>FRM-174530</td>\n",
       "      <td>TO-166062</td>\n",
       "      <td>8439.79</td>\n",
       "      <td>2022-09-25 18:42:39</td>\n",
       "    </tr>\n",
       "    <tr>\n",
       "      <th>1</th>\n",
       "      <td>FRM-171122</td>\n",
       "      <td>TO-132008</td>\n",
       "      <td>8398.99</td>\n",
       "      <td>2022-09-18 14:13:52</td>\n",
       "    </tr>\n",
       "    <tr>\n",
       "      <th>2</th>\n",
       "      <td>FRM-139838</td>\n",
       "      <td>TO-130723</td>\n",
       "      <td>2385.14</td>\n",
       "      <td>2022-10-18 08:26:55</td>\n",
       "    </tr>\n",
       "    <tr>\n",
       "      <th>3</th>\n",
       "      <td>FRM-130468</td>\n",
       "      <td>TO-101976</td>\n",
       "      <td>1228.61</td>\n",
       "      <td>2022-10-12 04:38:25</td>\n",
       "    </tr>\n",
       "    <tr>\n",
       "      <th>4</th>\n",
       "      <td>FRM-189541</td>\n",
       "      <td>TO-112698</td>\n",
       "      <td>6531.12</td>\n",
       "      <td>2022-09-25 21:38:50</td>\n",
       "    </tr>\n",
       "  </tbody>\n",
       "</table>\n",
       "</div>"
      ],
      "text/plain": [
       "  from_customer to_customer   amount           timestamp\n",
       "0    FRM-174530   TO-166062  8439.79 2022-09-25 18:42:39\n",
       "1    FRM-171122   TO-132008  8398.99 2022-09-18 14:13:52\n",
       "2    FRM-139838   TO-130723  2385.14 2022-10-18 08:26:55\n",
       "3    FRM-130468   TO-101976  1228.61 2022-10-12 04:38:25\n",
       "4    FRM-189541   TO-112698  6531.12 2022-09-25 21:38:50"
      ]
     },
     "execution_count": 10,
     "metadata": {},
     "output_type": "execute_result"
    }
   ],
   "source": [
    "\n",
    "for i in range(len(df)): # df nin uzunluğu kadar bir döngü\n",
    "    rand_numb=random.randint(1,5)  # rastgele random sayı üretiliyor ki from_customer ' random sayıda aktivasyonu olsun\n",
    "    print(\"i=\",i,\"- rand_numb=\",rand_numb)\n",
    "    print(\"ilk for new_from_customer\",len(new_from_customer))\n",
    "\n",
    "\n",
    "    for j in range(rand_numb): #random sayıyla döngü  \n",
    "       \n",
    "        print(\"j=\",j)\n",
    "        choices=random.choices(to_customer) #to_customer listesinden random  \n",
    "        # aynı müşteri kendine göndermemesi için seçim parçalanıyor.\n",
    "        choices_sp=\"\".join(choices) \n",
    "        choices_sp_jo=choices_sp.split(\"-\") \n",
    "\n",
    "        number_to_customer=choices_sp_jo[1]\n",
    "        from_customer_sp=from_customer[i]\n",
    "        number_from_customer=from_customer[i].split(\"-\")[1]\n",
    "\n",
    "        # aynı müşteri kendine göndermemesi id ler kıyaslandı eğer aynıysa döngüye devam ediyor \n",
    "        if (number_from_customer[1]== number_to_customer[1]):\n",
    "            print(\"AYNI\")\n",
    "            continue\n",
    "        \n",
    "        \n",
    "        if len(new_from_customer)==len(df): # df nin uzunluğuna eşit olunca çıkması lazım\n",
    "            break\n",
    "        new_from_customer.append(from_customer[i]) # ana listeden yeni listeye random sayısı kadar  aynısından ekliyo ki gönderenle alan eşit olsun\n",
    "        print(\"2.for new_from_customer\",len(new_from_customer))\n",
    "        \n",
    "        if len(new_to_customer)==len(df):\n",
    "            break\n",
    "        new_to_customer.append(choices) # random seçtiğimiz ögeyi yeni to_custoemr listesine ekliyoruz\n",
    "        \n",
    "        \n",
    "\n"
   ]
  },
  {
   "cell_type": "code",
   "execution_count": 11,
   "metadata": {},
   "outputs": [
    {
     "data": {
      "text/plain": [
       "['FRM-174681',\n",
       " 'FRM-151419',\n",
       " 'FRM-151419',\n",
       " 'FRM-151419',\n",
       " 'FRM-151419',\n",
       " 'FRM-151419',\n",
       " 'FRM-151419',\n",
       " 'FRM-151419']"
      ]
     },
     "execution_count": 11,
     "metadata": {},
     "output_type": "execute_result"
    }
   ],
   "source": [
    "amount=list(df[\"amount\"]) # df de ki amount u listeye dönüştürüyorum\n",
    "timestamp=list(df[\"timestamp\"]) #df de ki timestamp u listeye dönüştürüyorum"
   ]
  },
  {
   "cell_type": "code",
   "execution_count": 12,
   "metadata": {},
   "outputs": [],
   "source": [
    "new_df=pd.DataFrame() # yeni data frame oluşturuldu.\n",
    "\n",
    "# listeler yeni data frame aktarıldı. \n",
    "new_df['from_customer']=new_from_customer\n",
    "new_df['to_customer']=new_to_customer\n",
    "new_df['amount']=amount\n",
    "\n",
    "new_df['timestamp']=timestamp\n"
   ]
  },
  {
   "cell_type": "code",
   "execution_count": 13,
   "metadata": {},
   "outputs": [
    {
     "data": {
      "text/plain": [
       "['FRM-174681',\n",
       " 'FRM-151419',\n",
       " 'FRM-151419',\n",
       " 'FRM-151419',\n",
       " 'FRM-151419',\n",
       " 'FRM-151419',\n",
       " 'FRM-151419',\n",
       " 'FRM-151419']"
      ]
     },
     "execution_count": 13,
     "metadata": {},
     "output_type": "execute_result"
    }
   ],
   "source": [
    "new_df"
   ]
  },
  {
   "cell_type": "markdown",
   "metadata": {},
   "source": [
    "#Neo4j"
   ]
  },
  {
   "cell_type": "code",
   "execution_count": 17,
   "metadata": {},
   "outputs": [],
   "source": [
    "from neo4j import GraphDatabase"
   ]
  },
  {
   "cell_type": "code",
   "execution_count": 18,
   "metadata": {},
   "outputs": [
    {
     "name": "stdout",
     "output_type": "stream",
     "text": [
      "['112698', '130723', '171122']\n"
     ]
    }
   ],
   "source": [
    "transaction_info=new_df.values.tolist()"
   ]
  },
  {
   "cell_type": "code",
   "execution_count": 19,
   "metadata": {},
   "outputs": [
    {
     "name": "stderr",
     "output_type": "stream",
     "text": [
      "/tmp/ipykernel_72886/3017973299.py:19: DeprecationWarning: write_transaction has been renamed to execute_write\n",
      "  session.write_transaction(create_customer, str(i))\n",
      "/tmp/ipykernel_72886/3017973299.py:25: DeprecationWarning: write_transaction has been renamed to execute_write\n",
      "  session.write_transaction(create_customer, str(i[0]))\n",
      "/tmp/ipykernel_72886/3017973299.py:27: DeprecationWarning: write_transaction has been renamed to execute_write\n",
      "  session.write_transaction(create_transaction, str(i[0]), str(i[1]),str(i[2]),str(i[3]))\n",
      "/tmp/ipykernel_72886/3017973299.py:23: DeprecationWarning: write_transaction has been renamed to execute_write\n",
      "  session.write_transaction(create_transaction, str(i[0]), str(i[1]),str(i[2]),str(i[3]))\n"
     ]
    }
   ],
   "source": [
    "uri = \"neo4j://localhost:7687\"\n",
    "driver = GraphDatabase.driver(uri, auth=(\"neo4j\", \"test\"))\n",
    "\n",
    "def clear_db(tx):\n",
    "    tx.run(\"MATCH(n) Detach Delete n\")\n",
    "\n",
    "def create_customer(tx, from_customer):\n",
    "    tx.run(\"CREATE (c1:Customer {name: $name, customer_id: $id})\",name='customer', id=from_customer)\n",
    "\n",
    "#def create_customer2(tx, to_customer):\n",
    " #   tx.run(\"CREATE (c2:Customer2 {name: $name, customer_id: $id})\",name='customer2', id=to_customer)\n",
    "\n",
    "def create_transaction(tx, from_customer, to_customer,amount,timestamp):\n",
    "    tx.run(\"MATCH (c1:Customer) WHERE c1.customer_id = $id \"\n",
    "           \"CREATE (c1)-[:Transaction{amount:$amount,time:$timestamp}]->(c2:Customer {customer_id: $otherid})\",\n",
    "           id=from_customer, otherid=to_customer,amount=amount,timestamp=timestamp)\n",
    "\n",
    "def deneme(tx,from_customer,to_customer,amount,timestamp):\n",
    "    tx.run(\"MATCH (c:Customer) WHERE c.customer_id=$id \"\n",
    "    \"MATCH (c2:Customer) WHERE c2.customer_id=$receiverid \"\n",
    "    \"Merge (c)-[:Transaction{amount:$amount,time:$timestamp}]->(c2)\",\n",
    "    id=from_customer,receiverid=to_customer,amount=amount,timestamp=timestamp)\n",
    "\n",
    "with driver.session() as session:\n",
    "\n",
    "    session.execute_write(clear_db)\n",
    "    #Create all nodes Customer 1 and Customer 2 create relationship where there is only one relationship\n",
    "    for i in transaction_info:\n",
    "        session.write_transaction(create_customer, str(i[0]))\n",
    "        session.write_transaction(create_customer, str(i[1]))\n",
    "        session.write_transaction(deneme, str(i[0]), str(i[1]),str(i[2]),str(i[3]))\n",
    "\n",
    "        #session.write_transaction(create_transaction, str(i[0]), str(i[1]))\n",
    "        #session.write_transaction(create_transaction, str(i[0]), \"Carl\")\n",
    "\n",
    "driver.close()"
   ]
  }
 ],
 "metadata": {
  "kernelspec": {
   "display_name": "Python 3.10.6 ('env': venv)",
   "language": "python",
   "name": "python3"
  },
  "language_info": {
   "codemirror_mode": {
    "name": "ipython",
    "version": 3
   },
   "file_extension": ".py",
   "mimetype": "text/x-python",
   "name": "python",
   "nbconvert_exporter": "python",
   "pygments_lexer": "ipython3",
   "version": "3.10.6"
  },
  "orig_nbformat": 4,
  "vscode": {
   "interpreter": {
    "hash": "874a6de952d544f4cb877a8d13eabeae5b2291f673584fafdaac9408f5f0cba8"
   }
  }
 },
 "nbformat": 4,
 "nbformat_minor": 2
}
